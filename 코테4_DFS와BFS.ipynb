{
  "nbformat": 4,
  "nbformat_minor": 0,
  "metadata": {
    "colab": {
      "name": "코테4_DFS와BFS.ipynb",
      "provenance": [],
      "authorship_tag": "ABX9TyNrOb812IfCPGiqtgXQmlHa",
      "include_colab_link": true
    },
    "kernelspec": {
      "name": "python3",
      "display_name": "Python 3"
    },
    "language_info": {
      "name": "python"
    }
  },
  "cells": [
    {
      "cell_type": "markdown",
      "metadata": {
        "id": "view-in-github",
        "colab_type": "text"
      },
      "source": [
        "<a href=\"https://colab.research.google.com/github/guo8orou/AItech_pre/blob/main/%EC%BD%94%ED%85%8C4_DFS%EC%99%80BFS.ipynb\" target=\"_parent\"><img src=\"https://colab.research.google.com/assets/colab-badge.svg\" alt=\"Open In Colab\"/></a>"
      ]
    },
    {
      "cell_type": "markdown",
      "metadata": {
        "id": "WHzvZj75BojT"
      },
      "source": [
        "#DFS / BFS"
      ]
    },
    {
      "cell_type": "markdown",
      "metadata": {
        "id": "KaOCzO_7BCxm"
      },
      "source": [
        "자료구조\n",
        "\n",
        "스택:후입선출 (list.append(원소) & .pop()) / 역순은 list[::-1]\n",
        "\n",
        "큐:선입선출 (deque 모듈 할당 후 que.append(원소) & que.popleft()) / 역순은 que.reverse()"
      ]
    },
    {
      "cell_type": "markdown",
      "metadata": {
        "id": "XKNhzi0pBBF0"
      },
      "source": [
        "+재귀함수도 많이 사용됨\n",
        "\n",
        "재귀함수는 if: return 을 이용해 꼭 종료 조건을 명시해야한다"
      ]
    },
    {
      "cell_type": "code",
      "metadata": {
        "id": "-_SZvCrwzGzI"
      },
      "source": [
        "#재귀함수 예시\n",
        "\n",
        "def fctr(n):\n",
        "  if n<=1: return 1\n",
        "  return n*fctr(n-1)"
      ],
      "execution_count": null,
      "outputs": []
    },
    {
      "cell_type": "code",
      "metadata": {
        "colab": {
          "base_uri": "https://localhost:8080/"
        },
        "id": "JNau3s1MClqO",
        "outputId": "590766f9-064f-415e-f9c6-dffc7c1d8362"
      },
      "source": [
        "fctr(5)"
      ],
      "execution_count": null,
      "outputs": [
        {
          "output_type": "execute_result",
          "data": {
            "text/plain": [
              "120"
            ]
          },
          "metadata": {},
          "execution_count": 24
        }
      ]
    },
    {
      "cell_type": "markdown",
      "metadata": {
        "id": "7BDq_3jwF9cv"
      },
      "source": [
        "DFS / BFS 이해하기\n",
        "\n",
        "공통: 모든 노드의 탐색 순서(like 여행지 방문기) 작성 / 같은 우선순위의 선택지 중 번호가 작은 노드부터 탐색\n",
        "\n",
        "DFS: 깊이 우선 탐색 (끝이 탐색될 때까지 연결된 노드를 타고 따라 들어감) / 스택: 먼 여행지를 탐색하기 위해 앞으로 계속 가며 밟은 경로 (원위치 돌아올 때 경로도 역순 제거)\n",
        "\n",
        "BFS: 너비 우선 탐색 (가까운 노드부터) / 큐: 아직 탐색 안된 주변의 노드를 모두 추가하고, 먼저 담긴 노드 인근의 미탐색 노드를 큐에 추가 (인근 노드가 전부 큐에 추가되면 자신 노드를 삭제)\n",
        "\n",
        "DFS의 스택은 헨젤과 그레텔이 남긴 빵조각, BFS의 큐는 방문할 순서대로 쓴 일정표 같은...?\n",
        "\n",
        "*보통 BFS가 조금 더 빠르게 동작한다"
      ]
    },
    {
      "cell_type": "code",
      "metadata": {
        "id": "cQ_v00PhCm7q"
      },
      "source": [
        "#풀이1\n",
        "#음료수 얼려 먹기 #30분\n",
        "\n",
        "#빠른 풀이를 위해 input() 생략\n",
        "n,m=4,5\n",
        "mold=[[0,0,1,1,0],\n",
        "      [0,0,0,1,1],\n",
        "      [1,1,1,1,1],\n",
        "      [0,0,0,0,0]]\n",
        "\n",
        "#잘못된 풀이... 중간에 막혔지만 한번은 직접 풀어봐야겠어서 다시 시작\n",
        "\n",
        "'''\n",
        "from collections import deque\n",
        "que=deque()\n",
        "visited=[[False]*5]*4\n",
        "nr,nc, tr,tc =0,0 , 0,0\n",
        "ice=0\n",
        "\n",
        "while mold[nr][nc]==1 or visited[nr][nc]==True: #아래/오른쪽 방향으로 첫 0탐색\n",
        "  nc+=1\n",
        "  if nc+1==m: nr+=1; nc=0\n",
        "\n",
        "que.append((nr,nc)) #현재 노드\n",
        "\n",
        "while len(que)>0:\n",
        "\n",
        "    for x in [-1,1]:\n",
        "      for y in [-1,1]:\n",
        "\n",
        "        if nr+x>=0 and nr+x<n and nc+x>=0 and nc+x<m and visited[nr+x][nc+x]==False :\n",
        "          visited[nr+x][nc+x]==True\n",
        "          if mold[nr+x][nc+y]==0:\n",
        "            que.append( (nr+x,nc+y) )\n",
        "            print(que, nr, nc)\n",
        "\n",
        "            past=que.popleft()\n",
        "            nr, nc= past[0], past[1]\n",
        "            \n",
        "        else: ice+=1; break\n",
        "'''"
      ],
      "execution_count": null,
      "outputs": []
    },
    {
      "cell_type": "code",
      "metadata": {
        "id": "P9WyrkNxVrOU"
      },
      "source": [
        "#que.popleft()[1] 불가\n",
        "#que.popleft()를 따로 변수 할당 후 사용"
      ],
      "execution_count": null,
      "outputs": []
    },
    {
      "cell_type": "code",
      "metadata": {
        "id": "lAAlAn0rL3Cv"
      },
      "source": [
        "#풀이2 #완전 다른 접근으로 시도\n",
        "\n",
        "n,m=4,5\n",
        "mold=[[0,0,1,1,0],\n",
        "      [0,0,0,1,1],\n",
        "      [1,1,1,1,1],\n",
        "      [0,0,0,0,0]]\n",
        "\n",
        "'''\n",
        "from collections import deque\n",
        "import numpy as np\n",
        "\n",
        "que=deque()\n",
        "visited=[[False]*5]*4\n",
        "nr,nc, tr,tc =0,0 , 0,0\n",
        "ice=0\n",
        "past_idx=[]\n",
        "r_idx=[]\n",
        "\n",
        "for r in range(n):\n",
        "\n",
        "  k=0\n",
        "  past_idx=r_idx\n",
        "  r_idx=[]\n",
        "  temp=[]\n",
        "\n",
        "  while True:\n",
        "\n",
        "    if mold[r][k+1]==0:\n",
        "      k+=1\n",
        "      temp.append(k)\n",
        "    elif len(temp)!=0:\n",
        "        r_idx.append(temp)\n",
        "        k+=1\n",
        "        temp=[]\n",
        "    if k==m-1: break\n",
        "    \n",
        "    print(r, past_idx, r_idx, ice)\n",
        "\n",
        "  if r==0: continue #첫줄은 얼음칸의 연결 여부를 비교하지 않음\n",
        "   \n",
        "  #얼음이 끊겼거나 막줄일 때 얼음수 정산...\n",
        "\n",
        "  if r==n-1:\n",
        "     ice+=len(r_idx); print(ice)\n",
        "  else:\n",
        "    for r_ls in r_idx:\n",
        "      for p_ls in past_idx:\n",
        "          if len(set(r_ls)-set(p_ls)) < len(set(r_ls)):\n",
        "            ice+=1\n",
        "'''"
      ],
      "execution_count": null,
      "outputs": []
    },
    {
      "cell_type": "code",
      "metadata": {
        "colab": {
          "base_uri": "https://localhost:8080/"
        },
        "id": "hqXFEp8OlVR_",
        "outputId": "a8b92e16-af1f-47cd-f022-ce341355deba"
      },
      "source": [
        "#답안예시\n",
        "#풀이 1과 접근 방식은 동일\n",
        "\n",
        "n, m =map(int, input().split())\n",
        "\n",
        "mold=[]\n",
        "for i in range(n):\n",
        "  mold.append(list(map(int,input())))\n",
        "\n",
        "#이럴수가... 특정 노드 방문 후 연결된 노드를 방문하는 함수를 정의한다.\n",
        "\n",
        "def dfs(x,y):\n",
        "  #dfs 적용 대상이 범위 밖일 때 종료 (False)\n",
        "  if x<=-1 or x>=n or y<=-1 or y>=m:\n",
        "    return False\n",
        "  #범위 내면서 미방문 (기존 얼음칸)\n",
        "  if mold[x][y]==0:\n",
        "    mold[x][y]=1\n",
        "\n",
        "    #상하좌우 위치에 재귀적 함수 적용 (사방으로 연결된 모든 칸이 1되기 전까지)\n",
        "    dfs(x-1,y)\n",
        "    dfs(x, y-1)\n",
        "    dfs(x+1, y)\n",
        "    dfs(x, y+1)\n",
        "    return True #얼음칸 발견 + 연결된 노드를 모두 1로 바꾼 후에야 실행\n",
        "                # -> 탐색 시작점과 관계없이 연결된 얼음칸들마다 True는 한번씩만 반환\n",
        "  \n",
        "  return False #dfs 적용 대상이 범위내 지만 방문한 경우 종료\n",
        "\n",
        "ice=0\n",
        "\n",
        "#정의한 dfs()함수 사용해 얼음 수 세기\n",
        "for i in range(n):\n",
        "  for j in range(m):\n",
        "    if dfs(i,j)==True:\n",
        "      ice+=1\n",
        "\n",
        "ice"
      ],
      "execution_count": 2,
      "outputs": [
        {
          "name": "stdout",
          "output_type": "stream",
          "text": [
            "4 5\n",
            "00110\n",
            "00011\n",
            "11111\n",
            "00000\n"
          ]
        },
        {
          "output_type": "execute_result",
          "data": {
            "text/plain": [
              "3"
            ]
          },
          "metadata": {},
          "execution_count": 2
        }
      ]
    },
    {
      "cell_type": "markdown",
      "metadata": {
        "id": "tJaDTBtpoEcD"
      },
      "source": [
        "\n",
        "\n",
        "---\n",
        "\n"
      ]
    },
    {
      "cell_type": "code",
      "metadata": {
        "colab": {
          "base_uri": "https://localhost:8080/"
        },
        "id": "OWCq_a3ZrxKx",
        "outputId": "8bac5bea-512e-4763-c415-b5abf51f7b5c"
      },
      "source": [
        "False or 1!=2"
      ],
      "execution_count": 3,
      "outputs": [
        {
          "output_type": "execute_result",
          "data": {
            "text/plain": [
              "True"
            ]
          },
          "metadata": {},
          "execution_count": 3
        }
      ]
    },
    {
      "cell_type": "code",
      "metadata": {
        "colab": {
          "base_uri": "https://localhost:8080/"
        },
        "id": "5nbTdKdpoENz",
        "outputId": "3f14cdfb-879e-4697-813f-0aec2c88f9bf"
      },
      "source": [
        "#미로탈출 #30분\n",
        "#제한 시간 안에는 풀었지만 왜 실행 안되는지 모름\n",
        "\n",
        "'''\n",
        "n,m=map(int,input().split())\n",
        "map_=[]\n",
        "for i in range(n):\n",
        "  map_.append(list(map(int,input().split())))\n",
        "\n",
        "step=1\n",
        "\n",
        "def escape(x,y):\n",
        "  global step\n",
        "\n",
        "  #지도 밖: False\n",
        "  if x>=n or y>=m or x<0 or y<0:\n",
        "    return False\n",
        "  \n",
        "  #괴물방: False\n",
        "  if map_[x][y]==0:\n",
        "    return False\n",
        "\n",
        "  #이동한 방에 괴물이 없을 때\n",
        "  if map_[x][y]==1:\n",
        "\n",
        "    #사방이 다 이동 불가: 해당 방을 진입 불가 설정 후 False\n",
        "    if escape(x+1,y)==False and escape(x-1,y)==False and escape(x,y+1)==False and escape(x,y-1)==False:\n",
        "      map_[x][y]=0\n",
        "      return False\n",
        "\n",
        "    #이동 가능:\n",
        "    print(map_)\n",
        "    step+=1\n",
        "    escape(x+1,y)\n",
        "    escape(x-1,y)\n",
        "    escape(x,y+1)\n",
        "    escape(x,y-1)\n",
        "\n",
        "  #도달할 때까지 계속 깊이 탐색\n",
        "  if x==n and y==m:\n",
        "    return step+1\n",
        "\n",
        "escape(0,0)\n",
        "'''"
      ],
      "execution_count": 7,
      "outputs": [
        {
          "name": "stdout",
          "output_type": "stream",
          "text": [
            "5 6\n",
            "101010\n",
            "111111\n",
            "000001\n",
            "111111\n",
            "111111\n"
          ]
        }
      ]
    },
    {
      "cell_type": "markdown",
      "metadata": {
        "id": "h6l9nLAXuu7-"
      },
      "source": [
        "dfs인줄 알았는데 bfs 문제였다...."
      ]
    },
    {
      "cell_type": "code",
      "metadata": {
        "colab": {
          "base_uri": "https://localhost:8080/",
          "height": 108
        },
        "id": "LdimDGpIuGn-",
        "outputId": "0beb00c3-a0b3-4a24-e3e5-dfe319c4c8e1"
      },
      "source": [
        "#답안예시\n",
        "#방문한 노드를 괴물방 번호인 0이 아니라 방문번째수로 둔다\n",
        "#(방문번째 수가 같은 방은 같은 번호가 매겨진다)\n",
        "#똑같이 썼는데 오류가 난다... ㅠㅠ\n",
        "\n",
        "'''\n",
        "from collections import deque\n",
        "\n",
        "n,m=map(int,input().split())\n",
        "map_=[]\n",
        "for i in range(n):\n",
        "  map_.append(list(map(int,input())))\n",
        "\n",
        "dx=[-1,1,0,0]\n",
        "dy=[0,0,1,-1]\n",
        "\n",
        "def bfs(x,y): #재귀x \n",
        "  que=deque()\n",
        "  que.append((x,y)) #현 좌표 입력\n",
        "\n",
        "  while que: #que가 빌 때까지\n",
        "    x,y=que.popleft()\n",
        "\n",
        "    for i in range(4): #재귀적 실행과의 차이는 '임시 저장 후 조건 확인'...\n",
        "      nx=x+dx[i]\n",
        "      ny=y+dy[i]\n",
        "\n",
        "      if nx<0 or ny<0 or nx>=n or ny>=m:\n",
        "         continue #지도밖 무시 (다음 i의 반복문 실행)\n",
        "      if map_[nx][ny]==0:\n",
        "         continue #괴물방 무시\n",
        "      \n",
        "      #해당 노드 처음 방문시에만 최단 거리 기록!!!\n",
        "      if map_[nx][ny]==1: #첫 방문이어야 1\n",
        "        map_[nx][ny]==map_[x][y]+1 #번호 지정\n",
        "        que.append((nx,ny)) #이동가능하다고 처음 인식된 방이므로 '주변 탐색 대상'에 포함\n",
        "  \n",
        "  return map_[n-1][m-1] #que가 비었다면 탐색이 종료된 것이므로 n,m 위치의 노드 번호 반환\n",
        "\n",
        "bfs(0,0)\n",
        "'''"
      ],
      "execution_count": 18,
      "outputs": [
        {
          "output_type": "execute_result",
          "data": {
            "application/vnd.google.colaboratory.intrinsic+json": {
              "type": "string"
            },
            "text/plain": [
              "\"\\nfrom collections import deque\\n\\nn,m=map(int,input().split())\\nmap_=[]\\nfor i in range(n):\\n  map_.append(list(map(int,input())))\\n\\ndx=[-1,1,0,0]\\ndy=[0,0,1,-1]\\n\\ndef bfs(x,y): #재귀x \\n  que=deque()\\n  que.append((x,y)) #현 좌표 입력\\n\\n  while que: #que가 빌 때까지\\n    x,y=que.popleft()\\n\\n    for i in range(4): #재귀적 실행과의 차이는 '임시 저장 후 조건 확인'...\\n      nx=x+dx[i]\\n      ny=y+dy[i]\\n\\n      if nx<0 or ny<0 or nx>=n or ny>=m:\\n         continue #지도밖 무시 (다음 i의 반복문 실행)\\n      if map_[nx][ny]==0:\\n         continue #괴물방 무시\\n      \\n      #해당 노드 처음 방문시에만 최단 거리 기록!!!\\n      if map_[nx][ny]==1: #첫 방문이어야 1\\n        map_[nx][ny]==map_[x][y]+1 #번호 지정\\n        que.append((nx,ny)) #이동가능하다고 처음 인식된 방이므로 '주변 탐색 대상'에 포함\\n  \\n  return map_[n-1][m-1] #que가 비었다면 탐색이 종료된 것이므로 n,m 위치의 노드 번호 반환\\n\\nbfs(0,0)\\n\""
            ]
          },
          "metadata": {},
          "execution_count": 18
        }
      ]
    },
    {
      "cell_type": "markdown",
      "metadata": {
        "id": "k7Bs6vkmwWxD"
      },
      "source": [
        "문제풀이 포인트\n",
        "\n",
        "deque에는 '당장은 이동가능하지만' '주변은 아직 탐색될 필요가 있는' 위치 포함\n",
        "\n",
        "-여러 갈래로 선택지가 계속 뻗어나가 그 중 최선(최단)을 택하는 문제였음\n",
        "\n",
        "이동 가능한 위치 x,y와 이동할 주위의 임시 위치 nx, ny를 사용해 걸음수를 노드 번호로 지정\n",
        "\n",
        "번호 지정을 하지 않은 방(1) 번호를 이용해 '이미 방문했는지' 확인 후 que에 추가"
      ]
    }
  ]
}