{
  "nbformat": 4,
  "nbformat_minor": 0,
  "metadata": {
    "colab": {
      "name": "코테4_DFS와BFS.ipynb",
      "provenance": [],
      "authorship_tag": "ABX9TyMandH+Fz0bRR7mfwhRrIWr",
      "include_colab_link": true
    },
    "kernelspec": {
      "name": "python3",
      "display_name": "Python 3"
    },
    "language_info": {
      "name": "python"
    }
  },
  "cells": [
    {
      "cell_type": "markdown",
      "metadata": {
        "id": "view-in-github",
        "colab_type": "text"
      },
      "source": [
        "<a href=\"https://colab.research.google.com/github/guo8orou/AItech_pre/blob/main/%EC%BD%94%ED%85%8C4_DFS%EC%99%80BFS.ipynb\" target=\"_parent\"><img src=\"https://colab.research.google.com/assets/colab-badge.svg\" alt=\"Open In Colab\"/></a>"
      ]
    },
    {
      "cell_type": "markdown",
      "metadata": {
        "id": "WHzvZj75BojT"
      },
      "source": [
        "#DFS / BFS"
      ]
    },
    {
      "cell_type": "markdown",
      "metadata": {
        "id": "KaOCzO_7BCxm"
      },
      "source": [
        "자료구조\n",
        "\n",
        "스택:후입선출 (list.append(원소) & .pop()) / 역순은 list[::-1]\n",
        "\n",
        "큐:선입선출 (deque 모듈 할당 후 que.append(원소) & que.popleft()) / 역순은 que.reverse()"
      ]
    },
    {
      "cell_type": "markdown",
      "metadata": {
        "id": "XKNhzi0pBBF0"
      },
      "source": [
        "+재귀함수도 많이 사용됨\n",
        "\n",
        "재귀함수는 if: return 을 이용해 꼭 종료 조건을 명시해야한다"
      ]
    },
    {
      "cell_type": "code",
      "metadata": {
        "id": "-_SZvCrwzGzI"
      },
      "source": [
        "#재귀함수 예시\n",
        "\n",
        "def fctr(n):\n",
        "  if n<=1: return 1\n",
        "  return n*fctr(n-1)"
      ],
      "execution_count": null,
      "outputs": []
    },
    {
      "cell_type": "code",
      "metadata": {
        "colab": {
          "base_uri": "https://localhost:8080/"
        },
        "id": "JNau3s1MClqO",
        "outputId": "590766f9-064f-415e-f9c6-dffc7c1d8362"
      },
      "source": [
        "fctr(5)"
      ],
      "execution_count": null,
      "outputs": [
        {
          "output_type": "execute_result",
          "data": {
            "text/plain": [
              "120"
            ]
          },
          "metadata": {},
          "execution_count": 24
        }
      ]
    },
    {
      "cell_type": "markdown",
      "metadata": {
        "id": "7BDq_3jwF9cv"
      },
      "source": [
        "DFS / BFS 이해하기\n",
        "\n",
        "공통: 모든 노드의 탐색 순서(like 여행지 방문기) 작성 / 같은 우선순위의 선택지 중 번호가 작은 노드부터 탐색\n",
        "\n",
        "DFS: 깊이 우선 탐색 (끝이 탐색될 때까지 연결된 노드를 타고 따라 들어감) / 스택: 먼 여행지를 탐색하기 위해 앞으로 계속 가며 밟은 경로 (원위치 돌아올 때 경로도 역순 제거)\n",
        "\n",
        "BFS: 너비 우선 탐색 (가까운 노드부터) / 큐: 아직 탐색 안된 주변의 노드를 모두 추가하고, 먼저 담긴 노드 인근의 미탐색 노드를 큐에 추가 (인근 노드가 전부 큐에 추가되면 자신 노드를 삭제)\n",
        "\n",
        "DFS의 스택은 헨젤과 그레텔이 남긴 빵조각, BFS의 큐는 방문할 순서대로 쓴 일정표 같은...?\n",
        "\n",
        "*보통 BFS가 조금 더 빠르게 동작한다"
      ]
    },
    {
      "cell_type": "code",
      "metadata": {
        "id": "cQ_v00PhCm7q"
      },
      "source": [
        "#틀린 풀이\n",
        "#음료수 얼려 먹기 #30분\n",
        "\n",
        "#빠른 풀이를 위해 input() 생략\n",
        "n,m=4,5\n",
        "mold=[[0,0,1,1,0],\n",
        "      [0,0,0,1,1],\n",
        "      [1,1,1,1,1],\n",
        "      [0,0,0,0,0]]\n",
        "\n",
        "#잘못된 풀이... 중간에 막혔지만 한번은 직접 풀어봐야겠어서 다시 시작\n",
        "\n",
        "'''\n",
        "from collections import deque\n",
        "que=deque()\n",
        "visited=[[False]*5]*4\n",
        "nr,nc, tr,tc =0,0 , 0,0\n",
        "ice=0\n",
        "\n",
        "while mold[nr][nc]==1 or visited[nr][nc]==True: #아래/오른쪽 방향으로 첫 0탐색\n",
        "  nc+=1\n",
        "  if nc+1==m: nr+=1; nc=0\n",
        "\n",
        "que.append((nr,nc)) #현재 노드\n",
        "\n",
        "while len(que)>0:\n",
        "\n",
        "    for x in [-1,1]:\n",
        "      for y in [-1,1]:\n",
        "\n",
        "        if nr+x>=0 and nr+x<n and nc+x>=0 and nc+x<m and visited[nr+x][nc+x]==False :\n",
        "          visited[nr+x][nc+x]==True\n",
        "          if mold[nr+x][nc+y]==0:\n",
        "            que.append( (nr+x,nc+y) )\n",
        "            print(que, nr, nc)\n",
        "\n",
        "            past=que.popleft()\n",
        "            nr, nc= past[0], past[1]\n",
        "            \n",
        "        else: ice+=1; break\n",
        "'''"
      ],
      "execution_count": null,
      "outputs": []
    },
    {
      "cell_type": "code",
      "metadata": {
        "id": "P9WyrkNxVrOU"
      },
      "source": [
        "#que.popleft()[1] 불가\n",
        "#que.popleft()를 따로 변수 할당 후 사용"
      ],
      "execution_count": null,
      "outputs": []
    },
    {
      "cell_type": "code",
      "metadata": {
        "id": "lAAlAn0rL3Cv"
      },
      "source": [
        "n,m=4,5\n",
        "mold=[[0,0,1,1,0],\n",
        "      [0,0,0,1,1],\n",
        "      [1,1,1,1,1],\n",
        "      [0,0,0,0,0]]\n",
        "\n",
        "'''\n",
        "from collections import deque\n",
        "import numpy as np\n",
        "\n",
        "que=deque()\n",
        "visited=[[False]*5]*4\n",
        "nr,nc, tr,tc =0,0 , 0,0\n",
        "ice=0\n",
        "past_idx=[]\n",
        "r_idx=[]\n",
        "\n",
        "for r in range(n):\n",
        "\n",
        "  k=0\n",
        "  past_idx=r_idx\n",
        "  r_idx=[]\n",
        "  temp=[]\n",
        "\n",
        "  while True:\n",
        "\n",
        "    if mold[r][k+1]==0:\n",
        "      k+=1\n",
        "      temp.append(k)\n",
        "    elif len(temp)!=0:\n",
        "        r_idx.append(temp)\n",
        "        k+=1\n",
        "        temp=[]\n",
        "    if k==m-1: break\n",
        "    \n",
        "    print(r, past_idx, r_idx, ice)\n",
        "\n",
        "  if r==0: continue #첫줄은 얼음칸의 연결 여부를 비교하지 않음\n",
        "   \n",
        "  #얼음이 끊겼거나 막줄일 때 얼음수 정산...\n",
        "\n",
        "  if r==n-1:\n",
        "     ice+=len(r_idx); print(ice)\n",
        "  else:\n",
        "    for r_ls in r_idx:\n",
        "      for p_ls in past_idx:\n",
        "          if len(set(r_ls)-set(p_ls)) < len(set(r_ls)):\n",
        "            ice+=1\n",
        "'''"
      ],
      "execution_count": null,
      "outputs": []
    }
  ]
}