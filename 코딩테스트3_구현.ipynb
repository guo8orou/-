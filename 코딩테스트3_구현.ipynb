{
  "nbformat": 4,
  "nbformat_minor": 0,
  "metadata": {
    "colab": {
      "name": "코테3_구현.ipynb",
      "provenance": [],
      "authorship_tag": "ABX9TyPRv3cxL23T/BT75ddHWWm0",
      "include_colab_link": true
    },
    "kernelspec": {
      "name": "python3",
      "display_name": "Python 3"
    },
    "language_info": {
      "name": "python"
    }
  },
  "cells": [
    {
      "cell_type": "markdown",
      "metadata": {
        "id": "view-in-github",
        "colab_type": "text"
      },
      "source": [
        "<a href=\"https://colab.research.google.com/github/guo8orou/AItech_pre/blob/main/%EC%BD%94%EB%94%A9%ED%85%8C%EC%8A%A4%ED%8A%B83_%EA%B5%AC%ED%98%84.ipynb\" target=\"_parent\"><img src=\"https://colab.research.google.com/assets/colab-badge.svg\" alt=\"Open In Colab\"/></a>"
      ]
    },
    {
      "cell_type": "markdown",
      "metadata": {
        "id": "qZ03DEa6HtPd"
      },
      "source": [
        "\n",
        "##구현"
      ]
    },
    {
      "cell_type": "code",
      "metadata": {
        "colab": {
          "base_uri": "https://localhost:8080/"
        },
        "id": "Fi8pp3MtHi3P",
        "outputId": "540f4441-6aec-40e3-ffee-92f377dc0bef"
      },
      "source": [
        "#예제4-1 상하좌우\n",
        "#U, D 반대로 작성 / n=map(int, input()) 사용 등으로 많은 오류 발생 -> 20분 소요\n",
        "\n",
        "n=int(input()) #숫자 하나면 int(input()), 리스트면 list(map(~))\n",
        "move=list(map(str,input().split()))\n",
        "policy={'R':1, 'L':-1, 'U':-1, 'D':1 }\n",
        "loc={'y':1, 'x':1}\n",
        "\n",
        "for m in range(len(move)):\n",
        "  if move[m]=='U' or move[m]=='D':\n",
        "    if loc['y']+policy[move[m]]>0 and loc['y']+policy[move[m]]<n:\n",
        "      loc['y']+=policy[move[m]]\n",
        "  else:\n",
        "    if loc['x']+policy[move[m]]>0 and loc['x']+policy[move[m]]<n:\n",
        "      loc['x']+=policy[move[m]]\n",
        "\n",
        "(loc['y'],loc['x'])"
      ],
      "execution_count": 18,
      "outputs": [
        {
          "name": "stdout",
          "output_type": "stream",
          "text": [
            "5\n",
            "R R R U D D\n"
          ]
        },
        {
          "output_type": "execute_result",
          "data": {
            "text/plain": [
              "(3, 4)"
            ]
          },
          "metadata": {},
          "execution_count": 18
        }
      ]
    },
    {
      "cell_type": "code",
      "metadata": {
        "colab": {
          "base_uri": "https://localhost:8080/"
        },
        "id": "LpuIQuCiIYRZ",
        "outputId": "2a452ebc-7f5f-433b-a6df-fc448130b23b"
      },
      "source": [
        "#예시답안\n",
        "\n",
        "n=int(input())\n",
        "move=input().split() #str list인 경우 map 사용 불필요 !!\n",
        "\n",
        "loc_x,loc_y, temp_x, temp_y =1,1,1,1\n",
        "x=[0,0,-1,1]; y=[-1,1,0,0]\n",
        "plan=['L','R','U','D']\n",
        "\n",
        "for m in move: #input된 방향\n",
        "  for p in range(len(plan)):   #plan에서 일치여부를 하나씩 대조하며 index 확인\n",
        "    if m == plan[p]:\n",
        "      temp_x, temp_y = loc_x+x[p],loc_y+y[p] #loc_x, loc_y에 바로 적용하지 않고 임시 저장 !!!\n",
        "    if temp_x<1 or temp_y<1 or temp_x > n or temp_y>n : continue # 해당 조건일 때 적용 x !!!\n",
        "\n",
        "    loc_x, loc_y = temp_x, temp_y\n",
        "\n",
        "loc_x, loc_y\n",
        "#구현 문제는 시간 복잡도 요구 조건이 유해서 list 등 사용이 수월한 편\n",
        "#풀이 중 dict가 더 효율적이지 않나? 싶은 부분도 있는데, 시간보다 코드에 탈이 없도록 짜는게 우선인듯"
      ],
      "execution_count": 24,
      "outputs": [
        {
          "name": "stdout",
          "output_type": "stream",
          "text": [
            "5\n",
            " R R R U D D\n"
          ]
        },
        {
          "output_type": "execute_result",
          "data": {
            "text/plain": [
              "(3, 4)"
            ]
          },
          "metadata": {},
          "execution_count": 24
        }
      ]
    },
    {
      "cell_type": "markdown",
      "metadata": {
        "id": "OF-E0jg0OgBR"
      },
      "source": [
        "제약이 많을 때는 바로 적용하지 않고 임시 변수를 따로 만든 후 if로 다시 한번 걸러주는 편이 오류를 면하기 쉬운 것 같습니다"
      ]
    },
    {
      "cell_type": "code",
      "metadata": {
        "colab": {
          "base_uri": "https://localhost:8080/"
        },
        "id": "CqcijifMOynl",
        "outputId": "ae64e373-cb21-404a-b1ec-0fe1eb07424f"
      },
      "source": [
        "#예제 4-2 3이 등장하는 시각의 경우의 수\n",
        "#오류1: str(두자리수).split() 결과를 ['십의자리수','일의자리수']로 잘못 예상\n",
        "#오류2: 시간, 분, 초가 독립된 경우로 잘못 판단\n",
        "\n",
        "\n",
        "#아래는 완전히 틀린 코드\n",
        "\n",
        "'''\n",
        "n=int(input())\n",
        "\n",
        "h_num, m_num, s_num = 0,0,0\n",
        "\n",
        "for h in range(0,n+1):\n",
        "  if len(str(h))==1:\n",
        "    if h==3: h_num+=1\n",
        "  else:\n",
        "    if str(h)[0]=='3' or str(h)[1]=='3': h_num+=1\n",
        "\n",
        "for m in range(0,60):\n",
        "  if len(str(m))==1:\n",
        "    if m==3: m_num+=1\n",
        "  else:\n",
        "    if str(m)[0]=='3' or str(m)[1]=='3': m_num+=1\n",
        "\n",
        "for s in range(0,60):\n",
        "  if len(str(s))==1:\n",
        "    if s==3: m_num+=1\n",
        "  else:\n",
        "    if str(s)[0]=='3' or str(s)[1]=='3': s_num+=1\n",
        "\n",
        "h_num, m_num, s_num\n",
        "'''"
      ],
      "execution_count": 37,
      "outputs": [
        {
          "name": "stdout",
          "output_type": "stream",
          "text": [
            "5\n"
          ]
        },
        {
          "output_type": "execute_result",
          "data": {
            "text/plain": [
              "(1, 16, 14)"
            ]
          },
          "metadata": {},
          "execution_count": 37
        }
      ]
    },
    {
      "cell_type": "markdown",
      "metadata": {
        "id": "Z4ZpFiM2UWqd"
      },
      "source": [
        "하루가 86,400초라서 모든 경우가 86,400개다 -> 모든 경우를 세어도 제한 시간 안에 가능 (완전 탐색_"
      ]
    },
    {
      "cell_type": "code",
      "metadata": {
        "colab": {
          "base_uri": "https://localhost:8080/"
        },
        "id": "3Nh-8JT4OcR1",
        "outputId": "63fa112f-a9e3-4316-ec37-cb0f5207314c"
      },
      "source": [
        "#답안 예시\n",
        "\n",
        "h=int(input())\n",
        "\n",
        "count=0\n",
        "\n",
        "for i in range(h+1):\n",
        "  for j in range(60):\n",
        "    for k in range(60):\n",
        "\n",
        "      if '3' in str(i)+str(j)+str(k):\n",
        "        count+=1\n",
        "\n",
        "count"
      ],
      "execution_count": 45,
      "outputs": [
        {
          "name": "stdout",
          "output_type": "stream",
          "text": [
            "5\n"
          ]
        },
        {
          "output_type": "execute_result",
          "data": {
            "text/plain": [
              "11475"
            ]
          },
          "metadata": {},
          "execution_count": 45
        }
      ]
    },
    {
      "cell_type": "markdown",
      "metadata": {
        "id": "zDiXk2KKU8xG"
      },
      "source": [
        "쉬운 문제인데 과하게 애를 먹은 것 같다...\n",
        "\n",
        "1) 효율적으로 풀겠다는 생각이 습관돼서 오히려 쉬운 코드를 피해감\n",
        "\n",
        "2) 문자열이라 아래 코드가 가능하다는 점을 간과했음\n",
        "\n"
      ]
    },
    {
      "cell_type": "code",
      "metadata": {
        "colab": {
          "base_uri": "https://localhost:8080/"
        },
        "id": "4Q6D1MG_VN4Q",
        "outputId": "cafbec07-738a-492c-a347-0fba0dd55a4d"
      },
      "source": [
        "'3' in '13'"
      ],
      "execution_count": 46,
      "outputs": [
        {
          "output_type": "execute_result",
          "data": {
            "text/plain": [
              "True"
            ]
          },
          "metadata": {},
          "execution_count": 46
        }
      ]
    },
    {
      "cell_type": "markdown",
      "metadata": {
        "id": "fQA69HVWVhwL"
      },
      "source": [
        "\n",
        "\n",
        "---\n",
        "\n"
      ]
    },
    {
      "cell_type": "markdown",
      "metadata": {
        "id": "JAY1r9JRVwCU"
      },
      "source": [
        "실전문제"
      ]
    },
    {
      "cell_type": "code",
      "metadata": {
        "colab": {
          "base_uri": "https://localhost:8080/"
        },
        "id": "c7u--uwsTnRD",
        "outputId": "a9f98847-1288-48ad-9787-62fe8df1e7ad"
      },
      "source": [
        "#문제: 왕실의 나이트 #20분 제한\n",
        "#최대 경우의 수도 8개 뿐이므로 가장 단순하게 코딩\n",
        "\n",
        "loc=str(input())\n",
        "vert={'a':1,'b':2,'c':3,'d':4,'e':5,'f':6,'g':7,'h':8}\n",
        "\n",
        "loc_y, loc_x = vert[loc[0]], int(loc[1])\n",
        "\n",
        "move=0\n",
        "\n",
        "if loc_y+2 < 9:\n",
        "  if loc_x+1 <9: move+=1\n",
        "  if loc_x-1 >0: move+=1\n",
        "\n",
        "if loc_x+2 < 9:\n",
        "  if loc_y+1 <9: move+=1\n",
        "  if loc_y-1 >0: move+=1 \n",
        "\n",
        "if loc_y-2 > 0:\n",
        "  if loc_x+1 <9: move+=1\n",
        "  if loc_x-1 >0: move+=1\n",
        "\n",
        "if loc_x-2 > 0:\n",
        "  if loc_y+1 <9: move+=1\n",
        "  if loc_y-1 >0: move+=1\n",
        "\n",
        "move"
      ],
      "execution_count": 58,
      "outputs": [
        {
          "name": "stdout",
          "output_type": "stream",
          "text": [
            "d4\n"
          ]
        },
        {
          "output_type": "execute_result",
          "data": {
            "text/plain": [
              "8"
            ]
          },
          "metadata": {},
          "execution_count": 58
        }
      ]
    },
    {
      "cell_type": "markdown",
      "metadata": {
        "id": "aAoTuYwAZxnU"
      },
      "source": [
        "예시답안에서 사용한 ord()"
      ]
    },
    {
      "cell_type": "code",
      "metadata": {
        "colab": {
          "base_uri": "https://localhost:8080/"
        },
        "id": "9wom-AtXZz4z",
        "outputId": "aaa64100-851b-497c-e510-e0d6e130105a"
      },
      "source": [
        "#python 내부적으로 저장된 문자열의 순서번호\n",
        "#문자열에 순서가 있을 때 index 불러오기\n",
        "ord('a'); ord('z')"
      ],
      "execution_count": 60,
      "outputs": [
        {
          "output_type": "execute_result",
          "data": {
            "text/plain": [
              "122"
            ]
          },
          "metadata": {},
          "execution_count": 60
        }
      ]
    },
    {
      "cell_type": "code",
      "metadata": {
        "colab": {
          "base_uri": "https://localhost:8080/"
        },
        "id": "Mr4A6t8OYB86",
        "outputId": "111cdda4-2f24-45ae-f3b1-602ad10406a0"
      },
      "source": [
        "#답안 예시\n",
        "\n",
        "loc=input() #input은 원래 str입니다..\n",
        "loc_y, loc_x = int(ord(loc[0]))-int(ord('a'))+1, int(loc[1])\n",
        "\n",
        "steps=[(-2,-1),(-2,1),(-1,2),(-1,-2),(1,-2),(1,2),(2,-1),(2,1)] #각 step 튜플의 list 정의 (경우의 수가 10개만 넘어가도 비효율적일듯)\n",
        "move=0\n",
        "\n",
        "for step in steps:\n",
        "  if loc_x+step[0] >=1 and loc_x+step[0] <=8 and loc_y+step[1] >0 and loc_y+step[1] >0:\n",
        "    move+=1\n",
        "\n",
        "print(move)\n",
        "\n",
        "#x,y를 하나에 담은 튜플 step에 for문을 적용한 점이 가독성을 높였다"
      ],
      "execution_count": 61,
      "outputs": [
        {
          "output_type": "stream",
          "name": "stdout",
          "text": [
            "a1\n",
            "2\n"
          ]
        }
      ]
    },
    {
      "cell_type": "code",
      "metadata": {
        "colab": {
          "base_uri": "https://localhost:8080/"
        },
        "id": "MkK0yNPy5ouA",
        "outputId": "b6046801-00e9-4d76-b73f-aa702777aa4e"
      },
      "source": [
        "list(map(int,input().split()))"
      ],
      "execution_count": 1,
      "outputs": [
        {
          "name": "stdout",
          "output_type": "stream",
          "text": [
            "4 4\n"
          ]
        },
        {
          "output_type": "execute_result",
          "data": {
            "text/plain": [
              "[4, 4]"
            ]
          },
          "metadata": {},
          "execution_count": 1
        }
      ]
    },
    {
      "cell_type": "code",
      "metadata": {
        "colab": {
          "base_uri": "https://localhost:8080/"
        },
        "id": "QXbRTeuLayiK",
        "outputId": "a93f8856-5433-459c-c703-6520eff08cd0"
      },
      "source": [
        "#문제: 게임개발 #40분 제한\n",
        "\n",
        "size=tuple(map(int,input().split())) #맵크기 n*m\n",
        "chct=list(map(int,input().split()))\n",
        "dx,dy=chct[0],chct[1] #캐릭터 위치\n",
        "dr=chct[2] #방향\n",
        "\n",
        "t=0 #같은 자리에서의 회전수\n",
        "maps=[]\n",
        "visited=[(dx,dy)]\n",
        "for i in range(size[0]):\n",
        "  maps.append(list(map(int, input().split()))) #행별 맵 정보\n",
        "\n",
        "move=[(0,1),(-1,0),(0,-1),(1,0)] #북, 서, 남, 동 방향의 이동\n",
        "\n",
        "while True:\n",
        "\n",
        "  dr+=1 #방향 회전\n",
        "\n",
        "  tx, ty=dx+move[dr%4][0],dy+move[dr%4][1] #예상 위치\n",
        "  if maps[tx][ty]==0 and (tx,ty) not in visited: #조건 만족시 이동\n",
        "    dx, dy=tx, ty\n",
        "    t=0 #같은 자리에서의 회전 수 초기화\n",
        "    visited.append((dx,dy))\n",
        "\n",
        "  else: t+=1 #이동 없으므로 같은 자리 회전수 +1\n",
        "\n",
        "  if t==4: #모든 방향 가본 칸\n",
        "    tx, ty=dx+move[(dr+2)%4][0],dy+move[(dr+2)%4][1] #뒤로 한칸 이동한 예상 위치\n",
        "    if maps[tx][ty]==1: break #바다라면 멈춤\n",
        "    else: dx, dy= tx, ty; t=0 #육지라면 뒤로 이동\n",
        "    \n",
        "len(visited)"
      ],
      "execution_count": 20,
      "outputs": [
        {
          "output_type": "stream",
          "name": "stdout",
          "text": [
            "4 4\n",
            "1 1 0\n",
            "1 1 1 1\n",
            "1 0 0 1\n",
            "1 1 0 1\n",
            "1 1 1 1\n",
            "else 1 1 0 1\n",
            "else 1 1 1 2\n",
            "else 1 1 2 3\n",
            "else 1 2 0 5\n",
            "else 1 2 1 6\n",
            "else 2 2 0 8\n",
            "else 2 2 1 9\n",
            "else 2 2 2 10\n",
            "else 2 2 3 11\n",
            "else 1 2 0 12\n",
            "else 1 2 1 13\n",
            "else 1 2 2 14\n",
            "else 1 2 3 15\n"
          ]
        },
        {
          "output_type": "execute_result",
          "data": {
            "text/plain": [
              "3"
            ]
          },
          "metadata": {},
          "execution_count": 20
        }
      ]
    },
    {
      "cell_type": "markdown",
      "metadata": {
        "id": "WfZvP_qd51fg"
      },
      "source": [
        "오류발생횟수: 거의 20번... 근데 입력값을 잘못 봐서 헤맨 게 5~6번이고\n",
        "\n",
        "결정적으로 dr%4 대신 dr%3 쓴 문제가 있었는데 print()를 써서 수동으로 찾아내느라 오래걸렸다\n",
        "\n",
        "(분명 풀기 전엔 4로 나눠야한다고 생각했는데 어쩌다가.. ㅠㅠ)"
      ]
    },
    {
      "cell_type": "markdown",
      "metadata": {
        "id": "102mnYJEBAfd"
      },
      "source": [
        "\n",
        "\n",
        "---\n",
        "\n"
      ]
    },
    {
      "cell_type": "markdown",
      "metadata": {
        "id": "WHzvZj75BojT"
      },
      "source": [
        "#DFS / BFS"
      ]
    },
    {
      "cell_type": "markdown",
      "metadata": {
        "id": "KaOCzO_7BCxm"
      },
      "source": [
        "자료구조\n",
        "\n",
        "스택:후입선출 (list.append(원소) & .pop()) / 역순은 list[::-1]\n",
        "\n",
        "큐:선입선출 (deque 모듈 할당 후 que.append(원소) & que.popleft()) / 역순은 que.reverse()"
      ]
    },
    {
      "cell_type": "markdown",
      "metadata": {
        "id": "XKNhzi0pBBF0"
      },
      "source": [
        "+재귀함수도 많이 사용됨\n",
        "\n",
        "재귀함수는 if: return 을 이용해 꼭 종료 조건을 명시해야한다"
      ]
    },
    {
      "cell_type": "code",
      "metadata": {
        "id": "-_SZvCrwzGzI"
      },
      "source": [
        "#재귀함수 예시\n",
        "\n",
        "def fctr(n):\n",
        "  if n<=1: return 1\n",
        "  return n*fctr(n-1)"
      ],
      "execution_count": 21,
      "outputs": []
    },
    {
      "cell_type": "code",
      "metadata": {
        "colab": {
          "base_uri": "https://localhost:8080/"
        },
        "id": "JNau3s1MClqO",
        "outputId": "590766f9-064f-415e-f9c6-dffc7c1d8362"
      },
      "source": [
        "fctr(5)"
      ],
      "execution_count": 24,
      "outputs": [
        {
          "output_type": "execute_result",
          "data": {
            "text/plain": [
              "120"
            ]
          },
          "metadata": {},
          "execution_count": 24
        }
      ]
    },
    {
      "cell_type": "markdown",
      "metadata": {
        "id": "7BDq_3jwF9cv"
      },
      "source": [
        "DFS / BFS 이해하기\n",
        "\n",
        "공통: 모든 노드의 탐색 순서(like 여행지 방문기) 작성 / 같은 우선순위의 선택지 중 번호가 작은 노드부터 탐색\n",
        "\n",
        "DFS: 깊이 우선 탐색 (끝이 탐색될 때까지 연결된 노드를 타고 따라 들어감) / 스택: 먼 여행지를 탐색하기 위해 앞으로 계속 가며 밟은 경로 (원위치 돌아올 때 경로도 역순 제거)\n",
        "\n",
        "BFS: 너비 우선 탐색 (가까운 노드부터) / 큐: 아직 탐색 안된 주변의 노드를 모두 추가하고, 먼저 담긴 노드 인근의 미탐색 노드를 큐에 추가 (인근 노드가 전부 큐에 추가되면 자신 노드를 삭제)\n",
        "\n",
        "DFS의 스택은 헨젤과 그레텔이 남긴 빵조각, BFS의 큐는 방문할 순서대로 쓴 일정표 같은...?\n",
        "\n",
        "*보통 BFS가 조금 더 빠르게 동작한다"
      ]
    },
    {
      "cell_type": "code",
      "metadata": {
        "id": "cQ_v00PhCm7q"
      },
      "source": [
        "#틀린 풀이\n",
        "#음료수 얼려 먹기 #30분\n",
        "\n",
        "#빠른 풀이를 위해 input() 생략\n",
        "n,m=4,5\n",
        "mold=[[0,0,1,1,0],\n",
        "      [0,0,0,1,1],\n",
        "      [1,1,1,1,1],\n",
        "      [0,0,0,0,0]]\n",
        "\n",
        "#잘못된 풀이... 중간에 막혔지만 한번은 직접 풀어봐야겠어서 다시 시작\n",
        "\n",
        "'''\n",
        "from collections import deque\n",
        "que=deque()\n",
        "visited=[[False]*5]*4\n",
        "nr,nc, tr,tc =0,0 , 0,0\n",
        "ice=0\n",
        "\n",
        "while mold[nr][nc]==1 or visited[nr][nc]==True: #아래/오른쪽 방향으로 첫 0탐색\n",
        "  nc+=1\n",
        "  if nc+1==m: nr+=1; nc=0\n",
        "\n",
        "que.append((nr,nc)) #현재 노드\n",
        "\n",
        "while len(que)>0:\n",
        "\n",
        "    for x in [-1,1]:\n",
        "      for y in [-1,1]:\n",
        "\n",
        "        if nr+x>=0 and nr+x<n and nc+x>=0 and nc+x<m and visited[nr+x][nc+x]==False :\n",
        "          visited[nr+x][nc+x]==True\n",
        "          if mold[nr+x][nc+y]==0:\n",
        "            que.append( (nr+x,nc+y) )\n",
        "            print(que, nr, nc)\n",
        "\n",
        "            past=que.popleft()\n",
        "            nr, nc= past[0], past[1]\n",
        "            \n",
        "        else: ice+=1; break\n",
        "'''"
      ],
      "execution_count": 44,
      "outputs": []
    },
    {
      "cell_type": "code",
      "metadata": {
        "id": "P9WyrkNxVrOU"
      },
      "source": [
        "#que.popleft()[1] 불가\n",
        "#que.popleft()를 따로 변수 할당 후 사용"
      ],
      "execution_count": null,
      "outputs": []
    },
    {
      "cell_type": "code",
      "metadata": {
        "id": "lAAlAn0rL3Cv"
      },
      "source": [
        "n,m=4,5\n",
        "mold=[[0,0,1,1,0],\n",
        "      [0,0,0,1,1],\n",
        "      [1,1,1,1,1],\n",
        "      [0,0,0,0,0]]\n",
        "\n",
        "'''\n",
        "from collections import deque\n",
        "import numpy as np\n",
        "\n",
        "que=deque()\n",
        "visited=[[False]*5]*4\n",
        "nr,nc, tr,tc =0,0 , 0,0\n",
        "ice=0\n",
        "past_idx=[]\n",
        "r_idx=[]\n",
        "\n",
        "for r in range(n):\n",
        "\n",
        "  k=0\n",
        "  past_idx=r_idx\n",
        "  r_idx=[]\n",
        "  temp=[]\n",
        "\n",
        "  while True:\n",
        "\n",
        "    if mold[r][k+1]==0:\n",
        "      k+=1\n",
        "      temp.append(k)\n",
        "    elif len(temp)!=0:\n",
        "        r_idx.append(temp)\n",
        "        k+=1\n",
        "        temp=[]\n",
        "    if k==m-1: break\n",
        "    \n",
        "    print(r, past_idx, r_idx, ice)\n",
        "\n",
        "  if r==0: continue #첫줄은 얼음칸의 연결 여부를 비교하지 않음\n",
        "   \n",
        "  #얼음이 끊겼거나 막줄일 때 얼음수 정산...\n",
        "\n",
        "  if r==n-1:\n",
        "     ice+=len(r_idx); print(ice)\n",
        "  else:\n",
        "    for r_ls in r_idx:\n",
        "      for p_ls in past_idx:\n",
        "          if len(set(r_ls)-set(p_ls)) < len(set(r_ls)):\n",
        "            ice+=1\n",
        "'''"
      ],
      "execution_count": 77,
      "outputs": []
    }
  ]
}
