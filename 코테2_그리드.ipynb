{
  "nbformat": 4,
  "nbformat_minor": 0,
  "metadata": {
    "colab": {
      "name": "코테2_그리드.ipynb",
      "provenance": [],
      "collapsed_sections": [],
      "authorship_tag": "ABX9TyPTlKwylf8mGJcHZuwqjGb8",
      "include_colab_link": true
    },
    "kernelspec": {
      "name": "python3",
      "display_name": "Python 3"
    },
    "language_info": {
      "name": "python"
    }
  },
  "cells": [
    {
      "cell_type": "markdown",
      "metadata": {
        "id": "view-in-github",
        "colab_type": "text"
      },
      "source": [
        "<a href=\"https://colab.research.google.com/github/guo8orou/AItech_pre/blob/main/%EC%BD%94%ED%85%8C2_%EA%B7%B8%EB%A6%AC%EB%93%9C.ipynb\" target=\"_parent\"><img src=\"https://colab.research.google.com/assets/colab-badge.svg\" alt=\"Open In Colab\"/></a>"
      ]
    },
    {
      "cell_type": "markdown",
      "metadata": {
        "id": "FeB93x0UEX39"
      },
      "source": [
        "#Part2 Chapter3 그리디\n",
        "\n",
        "\n",
        "탐욕법 / 현재 상황에서 당장 좋은 것만 고르기"
      ]
    },
    {
      "cell_type": "code",
      "metadata": {
        "colab": {
          "base_uri": "https://localhost:8080/"
        },
        "id": "4rRCc3J4EFKd",
        "outputId": "abf9fe8b-7439-4d08-a20b-5b6fd3aec76f"
      },
      "source": [
        "#나의풀이\n",
        "#반복적이고, readibility가 낮다\n",
        "\n",
        "n=1260\n",
        "\n",
        "m500,n=n//500,n%500\n",
        "m100,n=n//100,n%100\n",
        "m50,n=n//50,n%50\n",
        "m10,n=n//10,n%10\n",
        "\n",
        "m500+m100+m50+m10"
      ],
      "execution_count": null,
      "outputs": [
        {
          "output_type": "execute_result",
          "data": {
            "text/plain": [
              "6"
            ]
          },
          "metadata": {},
          "execution_count": 117
        }
      ]
    },
    {
      "cell_type": "markdown",
      "metadata": {
        "id": "ttfwKa9FGBtV"
      },
      "source": [
        "coin 개수가 많을수록 coins list를 만드는 편이 가독성 높을 것"
      ]
    },
    {
      "cell_type": "code",
      "metadata": {
        "colab": {
          "base_uri": "https://localhost:8080/"
        },
        "id": "OAfzP_5XFjsc",
        "outputId": "4260caf8-a2f5-4f79-aad1-801ece4a9459"
      },
      "source": [
        "#답안예시\n",
        "\n",
        "n=1260; count=0\n",
        "\n",
        "coins=[500,100,50,10] #큰 순서로 확인\n",
        "\n",
        "for coin in coins:\n",
        "  count+=n//coin\n",
        "  n%=coin\n",
        "\n",
        "count\n",
        "\n",
        "#시간복잡도는 O(코인 종류수)"
      ],
      "execution_count": null,
      "outputs": [
        {
          "output_type": "execute_result",
          "data": {
            "text/plain": [
              "6"
            ]
          },
          "metadata": {},
          "execution_count": 120
        }
      ]
    },
    {
      "cell_type": "markdown",
      "metadata": {
        "id": "XTSLftSxGScV"
      },
      "source": [
        "그리디 알고리즘으로 위 문제를 해결할 수 있는 이유는\n",
        "\n",
        "위처럼 일방향적 풀이가 다른 최적 해의 여지를 차단한다고 보장할 수 있기 때문\n",
        "\n",
        "*동전의 값어치가 배수가 아니라면 위 문제로 해결 불가."
      ]
    },
    {
      "cell_type": "code",
      "metadata": {
        "colab": {
          "base_uri": "https://localhost:8080/"
        },
        "id": "EvbOnv2AIIiW",
        "outputId": "85528013-043e-4d62-a77c-38a5957f5afa"
      },
      "source": [
        ""
      ],
      "execution_count": null,
      "outputs": [
        {
          "output_type": "execute_result",
          "data": {
            "text/plain": [
              "2"
            ]
          },
          "metadata": {},
          "execution_count": 123
        }
      ]
    },
    {
      "cell_type": "markdown",
      "metadata": {
        "id": "d4iy25ZvJaBo"
      },
      "source": [
        "#큰 수의 법칙"
      ]
    },
    {
      "cell_type": "code",
      "metadata": {
        "colab": {
          "base_uri": "https://localhost:8080/"
        },
        "id": "za31oVlrF-md",
        "outputId": "a62dbda2-682f-4584-cd3e-6eabcff3a900"
      },
      "source": [
        "#나의풀이\n",
        "n,m,k=map(int, input().split())\n",
        "x=list(map(int,input().split()))\n",
        "\n",
        "x.sort(reverse=True)\n",
        "max1=x[0]; max2=x[1]\n",
        "\n",
        "if max1==max2:\n",
        "  print(max1*m)\n",
        "else:\n",
        "  print((max1*k+max2) * m//(k+1) + max1 * (m%(k+1))) "
      ],
      "execution_count": null,
      "outputs": [
        {
          "output_type": "stream",
          "name": "stdout",
          "text": [
            "5 8 3\n",
            "2 4 5 4 6\n",
            "46\n"
          ]
        }
      ]
    },
    {
      "cell_type": "code",
      "metadata": {
        "colab": {
          "base_uri": "https://localhost:8080/"
        },
        "id": "FMWYsd7KKKuc",
        "outputId": "6301322b-6c75-4370-b259-38fe5c30ad52"
      },
      "source": [
        "#답안예시\n",
        "#발상은 비슷하나 max1 더한수 + max2 더한수 = m 이용\n",
        "\n",
        "n,m,k=map(int, input().split())\n",
        "x=list(map(int,input().split()))\n",
        "\n",
        "x.sort()\n",
        "max1=x[n-1]; max2=x[n-2]\n",
        "\n",
        "count=(m//(k+1))*k + m%(k+1)\n",
        "print(max1*count + max2*(m-count))"
      ],
      "execution_count": null,
      "outputs": [
        {
          "output_type": "stream",
          "name": "stdout",
          "text": [
            "5 8 3\n",
            "2 4 5 4 6\n",
            "46\n"
          ]
        }
      ]
    },
    {
      "cell_type": "code",
      "metadata": {
        "colab": {
          "base_uri": "https://localhost:8080/"
        },
        "id": "CCeyvWaYK65k",
        "outputId": "60c37ea3-e4b3-41b9-b06f-67a0aa514e38"
      },
      "source": [
        "#다시 보니 원래 풀이에서 else부분이 if부분을 포함한다...\n",
        "\n",
        "n,m,k=map(int, input().split())\n",
        "x=list(map(int,input().split()))\n",
        "\n",
        "x.sort(reverse=True)\n",
        "max1=x[0]; max2=x[1]\n",
        "\n",
        "print((max1*k+max2) * m//(k+1) + max1 * (m%(k+1))) "
      ],
      "execution_count": null,
      "outputs": [
        {
          "output_type": "stream",
          "name": "stdout",
          "text": [
            "5 8 3\n",
            "2 4 5 4 6\n",
            "46\n"
          ]
        }
      ]
    },
    {
      "cell_type": "markdown",
      "metadata": {
        "id": "8T5iw_UaLfH1"
      },
      "source": [
        "숫자 카드 게임"
      ]
    },
    {
      "cell_type": "code",
      "metadata": {
        "colab": {
          "base_uri": "https://localhost:8080/"
        },
        "id": "jtYjYzWrLe13",
        "outputId": "84cb11de-60fc-4b7c-8f12-0c9f45e700f8"
      },
      "source": [
        "#나의 풀이\n",
        "n,m=2,3\n",
        "cards=[[3,1,2],[2,4,5]]\n",
        "\n",
        "max([min(card) for card in cards])"
      ],
      "execution_count": null,
      "outputs": [
        {
          "output_type": "execute_result",
          "data": {
            "text/plain": [
              "2"
            ]
          },
          "metadata": {},
          "execution_count": 141
        }
      ]
    },
    {
      "cell_type": "code",
      "metadata": {
        "colab": {
          "base_uri": "https://localhost:8080/"
        },
        "id": "D2Uj2euwM83C",
        "outputId": "cde2e6b3-fc27-4936-ef86-e549e8352eea"
      },
      "source": [
        "#listinput 한줄씩 읽는법: for문\n",
        "\n",
        "n,m=map(int, input().split())\n",
        "ans=[]\n",
        "\n",
        "for i in range(n):\n",
        "  ans.append(min(list(map(int, input().split()))))\n",
        "\n",
        "max(ans)"
      ],
      "execution_count": null,
      "outputs": [
        {
          "name": "stdout",
          "output_type": "stream",
          "text": [
            "2 3\n",
            "3 1 2\n",
            "4 2 4\n"
          ]
        },
        {
          "output_type": "execute_result",
          "data": {
            "text/plain": [
              "2"
            ]
          },
          "metadata": {},
          "execution_count": 142
        }
      ]
    },
    {
      "cell_type": "markdown",
      "metadata": {
        "id": "PSTUaEESNvP6"
      },
      "source": [
        "예시답안1에서는 for문에 max(현재 max 카드, min(읽어온list 카드들)) 포함시킴"
      ]
    },
    {
      "cell_type": "markdown",
      "metadata": {
        "id": "M6p_rhxhP7hd"
      },
      "source": [
        "1이 될 때까지"
      ]
    },
    {
      "cell_type": "code",
      "metadata": {
        "colab": {
          "base_uri": "https://localhost:8080/"
        },
        "id": "WNNv_6utNoK9",
        "outputId": "ecc29235-24c9-4e47-9bc9-43c4c0c3140f"
      },
      "source": [
        "#나의풀이\n",
        "n,k=map(int,input().split())\n",
        "\n",
        "ans=0\n",
        "\n",
        "while n!=1:\n",
        "\n",
        "  if n%k==0:\n",
        "    n=n//k\n",
        "    ans+=1\n",
        "    print('if', n,ans)\n",
        "\n",
        "  elif n<k:\n",
        "    ans+=n-1\n",
        "    break\n",
        "\n",
        "  else:\n",
        "    ans+=n%k\n",
        "    n-=n%k\n",
        "    print('else',n,ans)\n",
        "\n",
        "ans"
      ],
      "execution_count": null,
      "outputs": [
        {
          "output_type": "stream",
          "name": "stdout",
          "text": [
            "25 3\n",
            "else 24 1\n",
            "if 8 2\n",
            "else 6 4\n",
            "if 2 5\n"
          ]
        },
        {
          "output_type": "execute_result",
          "data": {
            "text/plain": [
              "6"
            ]
          },
          "metadata": {},
          "execution_count": 159
        }
      ]
    },
    {
      "cell_type": "code",
      "metadata": {
        "colab": {
          "base_uri": "https://localhost:8080/"
        },
        "id": "N9qXYrnUS4ge",
        "outputId": "606e67e8-d5ca-46a6-94bd-cbd967c8dcef"
      },
      "source": [
        "#답안예시\n",
        "n,k=map(int,input().split())\n",
        "\n",
        "ans=0\n",
        "\n",
        "while True:\n",
        "  #나머지 있으면 +나머지 / 나누어 떨어지면 0\n",
        "  ans+=n%k\n",
        "  n=(n//k)*k\n",
        "\n",
        "  #중간에 놓인 이유: 위 작업은 n//k값에 영향 x\n",
        "  if n<k: # if n//k==0:와 동일 기능\n",
        "    break\n",
        "\n",
        "  #n이 k의 배수이므로 무조건 한번은 나눠짐\n",
        "  ans+=1\n",
        "  n//=k\n",
        "\n",
        "  print(n, ans)\n",
        "\n",
        "print(ans+n-1)"
      ],
      "execution_count": null,
      "outputs": [
        {
          "output_type": "stream",
          "name": "stdout",
          "text": [
            "25 3\n",
            "8 2\n",
            "2 5\n",
            "6\n"
          ]
        }
      ]
    },
    {
      "cell_type": "markdown",
      "metadata": {
        "id": "6HClBo3wVzrA"
      },
      "source": [
        "나머지를 덜어내는 작업은 대소관계에 영향을 줄 수 있음\n",
        "\n",
        "ex) 9,7 (9>7) -> 7,7 (7==7)  (if n<k:에 등호 사용 불가)\n",
        "\n",
        "나머지를 덜어내는 작업은 n//k에는 영향을 미치지 않음\n",
        "\n",
        "ex) 9,7 (몫1) -> 7,7 (몫1) 또는 7,9 (몫0) -> 0,9 (몫0)"
      ]
    }
  ]
}