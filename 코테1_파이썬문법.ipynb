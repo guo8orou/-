{
  "nbformat": 4,
  "nbformat_minor": 0,
  "metadata": {
    "colab": {
      "name": "코테1_파이썬문법.ipynb",
      "provenance": [],
      "collapsed_sections": [],
      "authorship_tag": "ABX9TyM6xt6sfxVjF3wfVBxrdkxo",
      "include_colab_link": true
    },
    "kernelspec": {
      "name": "python3",
      "display_name": "Python 3"
    },
    "language_info": {
      "name": "python"
    }
  },
  "cells": [
    {
      "cell_type": "markdown",
      "metadata": {
        "id": "view-in-github",
        "colab_type": "text"
      },
      "source": [
        "<a href=\"https://colab.research.google.com/github/guo8orou/AItech_pre/blob/main/%EC%BD%94%ED%85%8C1_%ED%8C%8C%EC%9D%B4%EC%8D%AC%EB%AC%B8%EB%B2%95.ipynb\" target=\"_parent\"><img src=\"https://colab.research.google.com/assets/colab-badge.svg\" alt=\"Open In Colab\"/></a>"
      ]
    },
    {
      "cell_type": "markdown",
      "metadata": {
        "id": "3GSVpnK4IaLg"
      },
      "source": [
        "## 교재 Part4. A 빠른 정리\n",
        "\n",
        "가능한 기초 내용을 여럿 포함한 압축적 코드를 사용"
      ]
    },
    {
      "cell_type": "markdown",
      "metadata": {
        "id": "446jkb27QgRL"
      },
      "source": [
        "#수 자료형\n"
      ]
    },
    {
      "cell_type": "code",
      "metadata": {
        "id": "bPEJ60Los2n3",
        "colab": {
          "base_uri": "https://localhost:8080/"
        },
        "outputId": "c168f8f1-3292-4c6b-c97b-44148fef29a0"
      },
      "source": [
        "#e를 소수점 옮김 기호로 생각할 수 있다.\n",
        "print(1e9)\n",
        "print(25e-4)"
      ],
      "execution_count": null,
      "outputs": [
        {
          "output_type": "stream",
          "name": "stdout",
          "text": [
            "1000000000.0\n",
            "0.0025\n"
          ]
        }
      ]
    },
    {
      "cell_type": "code",
      "metadata": {
        "colab": {
          "base_uri": "https://localhost:8080/"
        },
        "id": "8hR5hJ7DAjpI",
        "outputId": "c0265168-6664-4026-d7b6-7dd79826b3e8"
      },
      "source": [
        "#컴퓨터가 2진수를 사용하기에 실수의 연산에서 미세한 오차가 발생한다\n",
        "print(0.3+0.6==0.9)\n",
        "print(0.3+0.6)"
      ],
      "execution_count": null,
      "outputs": [
        {
          "output_type": "stream",
          "name": "stdout",
          "text": [
            "False\n",
            "0.8999999999999999\n"
          ]
        }
      ]
    },
    {
      "cell_type": "code",
      "metadata": {
        "colab": {
          "base_uri": "https://localhost:8080/"
        },
        "id": "AatPHWaWI_IR",
        "outputId": "6ef3a67a-4bb6-4e74-f01d-889087ab79aa"
      },
      "source": [
        "round(0.393,1)"
      ],
      "execution_count": null,
      "outputs": [
        {
          "output_type": "execute_result",
          "data": {
            "text/plain": [
              "0.4"
            ]
          },
          "metadata": {},
          "execution_count": 8
        }
      ]
    },
    {
      "cell_type": "code",
      "metadata": {
        "colab": {
          "base_uri": "https://localhost:8080/"
        },
        "id": "QJ1s-u48JMjS",
        "outputId": "8cf591de-954d-4a6a-cf94-8b2885da018b"
      },
      "source": [
        "print(3/5) #나누기\n",
        "print(3//5) #몫\n",
        "print(3%5) #나머지\n",
        "print(3**5) #거듭제곱"
      ],
      "execution_count": null,
      "outputs": [
        {
          "output_type": "stream",
          "name": "stdout",
          "text": [
            "0.6\n",
            "0\n",
            "3\n",
            "243\n"
          ]
        }
      ]
    },
    {
      "cell_type": "code",
      "metadata": {
        "colab": {
          "base_uri": "https://localhost:8080/"
        },
        "id": "450DUPGLJeld",
        "outputId": "a3e2f246-d13a-491d-c7a1-5cb4af3db155"
      },
      "source": [
        "#반복된 원소의 리스트 빠른 생성\n",
        "#리스트 곱셈: 하나의 리스트로 통합\n",
        "a=[0,1]\n",
        "a*10"
      ],
      "execution_count": null,
      "outputs": [
        {
          "output_type": "execute_result",
          "data": {
            "text/plain": [
              "[0, 1, 0, 1, 0, 1, 0, 1, 0, 1, 0, 1, 0, 1, 0, 1, 0, 1, 0, 1]"
            ]
          },
          "metadata": {},
          "execution_count": 21
        }
      ]
    },
    {
      "cell_type": "code",
      "metadata": {
        "colab": {
          "base_uri": "https://localhost:8080/"
        },
        "id": "2TPvXAh_JmsV",
        "outputId": "b415f117-ade4-400e-db42-d0d17cf1069d"
      },
      "source": [
        "#인덱스로 접근해 값 수정\n",
        "a[-2:-1]=7,6\n",
        "#뒤에서 두번째 값 하나를 다음 값들로 대체\n",
        "a"
      ],
      "execution_count": null,
      "outputs": [
        {
          "output_type": "execute_result",
          "data": {
            "text/plain": [
              "[7, 6, 1]"
            ]
          },
          "metadata": {},
          "execution_count": 18
        }
      ]
    },
    {
      "cell_type": "code",
      "metadata": {
        "colab": {
          "base_uri": "https://localhost:8080/"
        },
        "id": "2gb-CzyqJyoI",
        "outputId": "f21d6e9b-b206-4909-c536-c337363ebd38"
      },
      "source": [
        "#뒤에서 두번째부터 모든 값을 다음 값들로 대체\n",
        "a=[0,0]\n",
        "a[-2:]=1,2\n",
        "a"
      ],
      "execution_count": null,
      "outputs": [
        {
          "output_type": "execute_result",
          "data": {
            "text/plain": [
              "[1, 2]"
            ]
          },
          "metadata": {},
          "execution_count": 24
        }
      ]
    },
    {
      "cell_type": "code",
      "metadata": {
        "id": "YLV5tP6vKaHl"
      },
      "source": [
        "#a[-2,-1] 오류 (튜플식 인덱싱 불가)"
      ],
      "execution_count": null,
      "outputs": []
    },
    {
      "cell_type": "markdown",
      "metadata": {
        "id": "DAPplSaGQjr3"
      },
      "source": [
        "\n",
        "\n",
        "---\n",
        "\n"
      ]
    },
    {
      "cell_type": "markdown",
      "metadata": {
        "id": "IdqOHbsUK_EK"
      },
      "source": [
        "#리스트"
      ]
    },
    {
      "cell_type": "code",
      "metadata": {
        "colab": {
          "base_uri": "https://localhost:8080/"
        },
        "id": "alMyWP0QKthl",
        "outputId": "c1fa1317-d9d8-4ec9-f067-ec3f228a95fa"
      },
      "source": [
        "#홀수의 나머지가 1(True)임을 이용한 리스트 초기화\n",
        "[i**2 for i in range(10) if i%2]"
      ],
      "execution_count": null,
      "outputs": [
        {
          "output_type": "execute_result",
          "data": {
            "text/plain": [
              "[1, 9, 25, 49, 81]"
            ]
          },
          "metadata": {},
          "execution_count": 30
        }
      ]
    },
    {
      "cell_type": "code",
      "metadata": {
        "colab": {
          "base_uri": "https://localhost:8080/"
        },
        "id": "78S8_YySLAOW",
        "outputId": "a9aedc78-29be-4f3b-bb12-fc61a34c5d67"
      },
      "source": [
        "#n차원 리스트 초기화\n",
        "m,n=2,3\n",
        "[[1,2]*m for _ in range(n) ]\n",
        "# _도 i처럼 사용됨 (재사용이 없어 굳이 문자 사용x)"
      ],
      "execution_count": null,
      "outputs": [
        {
          "output_type": "execute_result",
          "data": {
            "text/plain": [
              "[[1, 2, 1, 2], [1, 2, 1, 2], [1, 2, 1, 2]]"
            ]
          },
          "metadata": {},
          "execution_count": 35
        }
      ]
    },
    {
      "cell_type": "code",
      "metadata": {
        "colab": {
          "base_uri": "https://localhost:8080/"
        },
        "id": "9bco9yiwLpo1",
        "outputId": "f8cbe8cc-2f06-4396-d90d-b347589052f8"
      },
      "source": [
        "#동일 객체 레퍼런스 인식의 위험성\n",
        "arr=[[0]*2]*3 #[0,0]의 동일 객체를 *3\n",
        "print(arr)\n",
        "print(arr[0][0])\n",
        "arr[0][0]=2\n",
        "print(arr)\n",
        "\n",
        "#arr[0][0]은 0(단일값)이면서 변경은 일괄임"
      ],
      "execution_count": null,
      "outputs": [
        {
          "output_type": "stream",
          "name": "stdout",
          "text": [
            "[[0, 0], [0, 0], [0, 0]]\n",
            "0\n",
            "[[2, 0], [2, 0], [2, 0]]\n"
          ]
        }
      ]
    },
    {
      "cell_type": "code",
      "metadata": {
        "colab": {
          "base_uri": "https://localhost:8080/"
        },
        "id": "h_pr9wUMMJlu",
        "outputId": "c6e52a2f-058b-4d38-f397-f11c129df245"
      },
      "source": [
        "# for를 이용해 [0,0]가 개별로 적재된 리스트\n",
        "arr=[[0]*2 for _ in range(3)]\n",
        "print(arr)\n",
        "arr[0][0]=2\n",
        "print(arr)"
      ],
      "execution_count": null,
      "outputs": [
        {
          "output_type": "stream",
          "name": "stdout",
          "text": [
            "[[0, 0], [0, 0], [0, 0]]\n",
            "[[2, 0], [0, 0], [0, 0]]\n"
          ]
        }
      ]
    },
    {
      "cell_type": "markdown",
      "metadata": {
        "id": "1KiCGzFWOpXo"
      },
      "source": [
        "아래의 메서드(list.메서드)는 실행 시 list를 직접 변형\n",
        "\n",
        "-> 변수 재할당 안해도됨(장점), 실행 취소가 어려움(단점)\n",
        "\n",
        "a.sort()는 a 정렬 저장, sorted()는 단순 출력"
      ]
    },
    {
      "cell_type": "code",
      "metadata": {
        "colab": {
          "base_uri": "https://localhost:8080/"
        },
        "id": "nTuMqhhFNSt_",
        "outputId": "d00c3ee4-485a-4802-a899-48719afb6b24"
      },
      "source": [
        "#리스트 삽입과 삭제\n",
        "a=[3,4]\n",
        "a.append(2); print(a)\n",
        "a.insert(1,5); print(a) #기존 1번 원소를 뒤로 밀고 삽입\n",
        "a.remove(2); print(a) #특정 값 하나만 삭제. 전부 삭제하려면 리스트 초기화"
      ],
      "execution_count": null,
      "outputs": [
        {
          "output_type": "stream",
          "name": "stdout",
          "text": [
            "[3, 4, 2]\n",
            "[3, 5, 4, 2]\n",
            "[2, 3, 4, 5]\n",
            "[5, 4, 3, 2]\n"
          ]
        }
      ]
    },
    {
      "cell_type": "markdown",
      "metadata": {
        "id": "yapNX911PaQK"
      },
      "source": [
        ".append: 시간 복잡도 O(1) - 인덱스 관여 없이 단순 추가\n",
        "\n",
        ".remove, .insert: O(N), 동작 수행 후 리스트 원소 위치를 조정"
      ]
    },
    {
      "cell_type": "code",
      "metadata": {
        "colab": {
          "base_uri": "https://localhost:8080/"
        },
        "id": "XgxU9mE9Nybs",
        "outputId": "d233acc0-87b7-4b75-bbab-05ec80830ee0"
      },
      "source": [
        "#리스트 정렬, 뒤집기, 빈도\n",
        "a=[2,4,2,3]\n",
        "a.sort(); print(a) #sorted(a)\n",
        "a.sort(reverse=True); print(a) #sorted(a,reverse=True)\n",
        "a.reverse(); print(a) #역순정렬이 아니라 순서 뒤집기!\n",
        "print(a.count(2)) #특정 값의 빈도"
      ],
      "execution_count": null,
      "outputs": [
        {
          "output_type": "stream",
          "name": "stdout",
          "text": [
            "[2, 2, 3, 4]\n",
            "[4, 3, 2, 2]\n",
            "[2, 2, 3, 4]\n",
            "2\n"
          ]
        }
      ]
    },
    {
      "cell_type": "markdown",
      "metadata": {
        "id": "un-EJ5yHRbmh"
      },
      "source": [
        "# 튜플\n"
      ]
    },
    {
      "cell_type": "markdown",
      "metadata": {
        "id": "gcVuOB6IQtxR"
      },
      "source": [
        "☆튜플: 리스트와 거의 비슷하지만 묶음 기호 (), 값 변경 불가\n",
        "\n",
        "\n",
        "-리스트에 비해 상대적으로 공간 효율적 / 원소 성질이 서로 다를 때 주로 사용\n",
        "\n",
        "-다익스트라 최단경로 알고리즘에서 (비용, 노드번호) 형태로도 사용"
      ]
    },
    {
      "cell_type": "code",
      "metadata": {
        "id": "BhAz7-HcQ3W-"
      },
      "source": [
        "a=(1,2,3)\n",
        "#a[1]=1 item assginment 불가 에러"
      ],
      "execution_count": null,
      "outputs": []
    },
    {
      "cell_type": "markdown",
      "metadata": {
        "id": "LYxrYKL6RU1X"
      },
      "source": [
        "#사전"
      ]
    },
    {
      "cell_type": "markdown",
      "metadata": {
        "id": "KNdFlYtwRjP_"
      },
      "source": [
        "파이썬 사전: 내부 해시 테이블 이용 -> 검색/수정 처리시간 효율 O(1)\n",
        "\n",
        "리스트는 사용될 최대 원소 이하의 모든 수에 대해 선택 여부를 저장하므로 큰 범위 내 모든 수가 사용되지 않을 경우 사전이 유리"
      ]
    },
    {
      "cell_type": "code",
      "metadata": {
        "colab": {
          "base_uri": "https://localhost:8080/"
        },
        "id": "KSAeNMUNSOuE",
        "outputId": "956b8a19-fbe2-4476-d8fb-3a6993d0b37e"
      },
      "source": [
        "a=dict({1:2, 3:4})\n",
        "print(1 in a) # 사전에서 in 은 key의 존재 여부\n",
        "print(2 in a) # value의 존재 여부 x"
      ],
      "execution_count": null,
      "outputs": [
        {
          "output_type": "stream",
          "name": "stdout",
          "text": [
            "True\n",
            "False\n"
          ]
        }
      ]
    },
    {
      "cell_type": "code",
      "metadata": {
        "colab": {
          "base_uri": "https://localhost:8080/"
        },
        "id": "_yo-VWNeSfu3",
        "outputId": "82285dcb-c187-4218-d013-aace2fa0d647"
      },
      "source": [
        "#아래 사전 요소를 list처럼 사용 가능\n",
        "print(a.keys())\n",
        "print(a.values())\n",
        "print(a.items())"
      ],
      "execution_count": null,
      "outputs": [
        {
          "output_type": "stream",
          "name": "stdout",
          "text": [
            "dict_keys([1, 3])\n",
            "dict_values([2, 4])\n",
            "dict_items([(1, 2), (3, 4)])\n"
          ]
        }
      ]
    },
    {
      "cell_type": "markdown",
      "metadata": {
        "id": "O35eKmheS1w9"
      },
      "source": [
        "#집합"
      ]
    },
    {
      "cell_type": "markdown",
      "metadata": {
        "id": "YxiYsPR4S3Su"
      },
      "source": [
        "사전과 집합은 순서가 없어 인덱싱 불가\n",
        "집합은 고유값만 원소로 남긴다"
      ]
    },
    {
      "cell_type": "code",
      "metadata": {
        "colab": {
          "base_uri": "https://localhost:8080/"
        },
        "id": "rB5C_48uTFPj",
        "outputId": "18c64bdc-f65e-4021-8eee-17bd342669a8"
      },
      "source": [
        "#집합답게 집합 연산 가능\n",
        "a={1,2,3}; b={2,3,4}\n",
        "print(a|b) #합집합\n",
        "print(a&b) #교집합\n",
        "print(a-b) #차집합"
      ],
      "execution_count": null,
      "outputs": [
        {
          "output_type": "stream",
          "name": "stdout",
          "text": [
            "{1, 2, 3, 4}\n",
            "{2, 3}\n",
            "{1}\n"
          ]
        }
      ]
    },
    {
      "cell_type": "code",
      "metadata": {
        "colab": {
          "base_uri": "https://localhost:8080/"
        },
        "id": "W6wO1f3HTa3Q",
        "outputId": "ae76d8b5-ed36-4bad-b470-4af1c7143c32"
      },
      "source": [
        "#집합의 추가, 제거\n",
        "a.add(4); print(a)\n",
        "a.update({2,5});print(a) #여러개 추가. [2,5]도 가능\n",
        "a.remove(1);print(a)"
      ],
      "execution_count": null,
      "outputs": [
        {
          "output_type": "stream",
          "name": "stdout",
          "text": [
            "{1, 2, 3, 4}\n",
            "{1, 2, 3, 4, 5}\n",
            "{2, 3, 4, 5}\n"
          ]
        }
      ]
    },
    {
      "cell_type": "markdown",
      "metadata": {
        "id": "OG96RpSFTvsZ"
      },
      "source": [
        ".add(), .remove() 모두 시간 복잡도가 O(1)이라고 함\n",
        "\n",
        "\n",
        "고유값만 취급, 정렬 상태 유지와 관련 있을듯"
      ]
    },
    {
      "cell_type": "markdown",
      "metadata": {
        "id": "8KHQ8tYRQZFZ"
      },
      "source": [
        "#문자"
      ]
    },
    {
      "cell_type": "code",
      "metadata": {
        "colab": {
          "base_uri": "https://localhost:8080/"
        },
        "id": "BNdsRe2gOh-A",
        "outputId": "15442e24-3078-4466-9a83-a69fbe872416"
      },
      "source": [
        "#따옴표 출력\n",
        "print('Yes, \"python\\\"!') # 다른 따옴표\n",
        "print('Yes, \\'\\'python\\'!') #백슬래시"
      ],
      "execution_count": null,
      "outputs": [
        {
          "output_type": "stream",
          "name": "stdout",
          "text": [
            "Yes, \"python\"!\n",
            "Yes, ''python'!\n"
          ]
        }
      ]
    },
    {
      "cell_type": "markdown",
      "metadata": {
        "id": "joWdMMKCUtHF"
      },
      "source": [
        "\n",
        "\n",
        "---\n",
        "\n"
      ]
    },
    {
      "cell_type": "markdown",
      "metadata": {
        "id": "tsimfoYQUqtv"
      },
      "source": [
        "#조건문"
      ]
    },
    {
      "cell_type": "code",
      "metadata": {
        "colab": {
          "base_uri": "https://localhost:8080/"
        },
        "id": "_3mHaWAnQIp7",
        "outputId": "3128763d-2979-4f50-d813-0cd43b2a522c"
      },
      "source": [
        "a=5\n",
        "if a>7: print('>7') #if 내 if도 가능\n",
        "elif a>5: print('>5') #결과문 줄바꿈 안해도 됨\n",
        "else:\n",
        "  print('<=5')"
      ],
      "execution_count": null,
      "outputs": [
        {
          "output_type": "stream",
          "name": "stdout",
          "text": [
            "<=5\n"
          ]
        }
      ]
    },
    {
      "cell_type": "markdown",
      "metadata": {
        "id": "J_rKMn5uVGcI"
      },
      "source": [
        "비교연산자: ==, !=, >, >= 등\n",
        "\n",
        "논리연산자:and, or, not\n",
        "\n",
        "+) in, not in : 리스트, 문자열 등"
      ]
    },
    {
      "cell_type": "code",
      "metadata": {
        "colab": {
          "base_uri": "https://localhost:8080/",
          "height": 35
        },
        "id": "ejjdSZbNU-VS",
        "outputId": "070f7347-906e-4571-908c-da59c99de386"
      },
      "source": [
        "# if, else 한줄 조건문\n",
        "\"<=5\" if a<=5 else \">5\""
      ],
      "execution_count": null,
      "outputs": [
        {
          "output_type": "execute_result",
          "data": {
            "application/vnd.google.colaboratory.intrinsic+json": {
              "type": "string"
            },
            "text/plain": [
              "'<=5'"
            ]
          },
          "metadata": {},
          "execution_count": 96
        }
      ]
    },
    {
      "cell_type": "code",
      "metadata": {
        "colab": {
          "base_uri": "https://localhost:8080/"
        },
        "id": "JNiEf8xlV1_5",
        "outputId": "95178d9a-19d6-4460-abf6-2901b416892c"
      },
      "source": [
        "# [원소형태 for ~ if ~]\n",
        "[i for i in range(5) if i not in range(3) ]"
      ],
      "execution_count": null,
      "outputs": [
        {
          "output_type": "execute_result",
          "data": {
            "text/plain": [
              "[3, 4]"
            ]
          },
          "metadata": {},
          "execution_count": 100
        }
      ]
    },
    {
      "cell_type": "markdown",
      "metadata": {
        "id": "bD6EdyfJWerJ"
      },
      "source": [
        "#반복문"
      ]
    },
    {
      "cell_type": "code",
      "metadata": {
        "colab": {
          "base_uri": "https://localhost:8080/"
        },
        "id": "d4g7xd1OWP9H",
        "outputId": "23fa6278-5285-4e1a-fcfd-abb982d2898e"
      },
      "source": [
        "#while문으로 특정 조건시까지 1씩 더하기\n",
        "x=0\n",
        "while x<=5:\n",
        "  x+=1\n",
        "x"
      ],
      "execution_count": null,
      "outputs": [
        {
          "output_type": "execute_result",
          "data": {
            "text/plain": [
              "6"
            ]
          },
          "metadata": {},
          "execution_count": 107
        }
      ]
    },
    {
      "cell_type": "code",
      "metadata": {
        "colab": {
          "base_uri": "https://localhost:8080/"
        },
        "id": "uJBTbMyKW-q2",
        "outputId": "d8179c46-9564-4c07-87a0-ea802c50693b"
      },
      "source": [
        "#for문으로 0~5 합\n",
        "x=0\n",
        "for i in range(5): x+=i\n",
        "x"
      ],
      "execution_count": null,
      "outputs": [
        {
          "output_type": "execute_result",
          "data": {
            "text/plain": [
              "10"
            ]
          },
          "metadata": {},
          "execution_count": 106
        }
      ]
    },
    {
      "cell_type": "code",
      "metadata": {
        "colab": {
          "base_uri": "https://localhost:8080/"
        },
        "id": "l4w-NiSoXTEu",
        "outputId": "652f2104-1818-4476-8432-13660f56856d"
      },
      "source": [
        "#DP에 많이 사용되는 중첩 반복문\n",
        "#구구단 2~3단\n",
        "for i in range(2,4):\n",
        "  for j in range(2,10):\n",
        "    print(i, '*', j, '=',i*j)\n",
        "  print('\\n') #첫 반복문에만 적용"
      ],
      "execution_count": null,
      "outputs": [
        {
          "output_type": "stream",
          "name": "stdout",
          "text": [
            "2 * 2 = 4\n",
            "2 * 3 = 6\n",
            "2 * 4 = 8\n",
            "2 * 5 = 10\n",
            "2 * 6 = 12\n",
            "2 * 7 = 14\n",
            "2 * 8 = 16\n",
            "2 * 9 = 18\n",
            "\n",
            "\n",
            "3 * 2 = 6\n",
            "3 * 3 = 9\n",
            "3 * 4 = 12\n",
            "3 * 5 = 15\n",
            "3 * 6 = 18\n",
            "3 * 7 = 21\n",
            "3 * 8 = 24\n",
            "3 * 9 = 27\n",
            "\n",
            "\n"
          ]
        }
      ]
    },
    {
      "cell_type": "markdown",
      "metadata": {
        "id": "DpSWyarLgHl5"
      },
      "source": [
        "\n",
        "\n",
        "---\n",
        "\n"
      ]
    },
    {
      "cell_type": "markdown",
      "metadata": {
        "id": "noaxMwIJgIJD"
      },
      "source": [
        "# 함수"
      ]
    },
    {
      "cell_type": "code",
      "metadata": {
        "id": "LtCP06zIf5e7"
      },
      "source": [
        "def add(a,b): a+b\n",
        "add(1,2)\n",
        "#return을 포함해야 결과 출력"
      ],
      "execution_count": 1,
      "outputs": []
    },
    {
      "cell_type": "code",
      "metadata": {
        "colab": {
          "base_uri": "https://localhost:8080/"
        },
        "id": "IcDbWgbFgHEp",
        "outputId": "7ff5e38c-df87-41da-f657-c7de4b5060c7"
      },
      "source": [
        "def add(a,b): print(a+b)\n",
        "add(1,2)\n",
        "#대신 print()가 있으면 결과 출력함"
      ],
      "execution_count": 2,
      "outputs": [
        {
          "output_type": "stream",
          "name": "stdout",
          "text": [
            "3\n"
          ]
        }
      ]
    },
    {
      "cell_type": "markdown",
      "metadata": {
        "id": "JTZFTcjHhXFR"
      },
      "source": [
        "lambda"
      ]
    },
    {
      "cell_type": "code",
      "metadata": {
        "colab": {
          "base_uri": "https://localhost:8080/"
        },
        "id": "wj5aIzb5g-ik",
        "outputId": "b1495a48-867f-47a9-ac1f-3a0542ed88a7"
      },
      "source": [
        "#def 대신 labda\n",
        "#함수 정의 lambda문을 ()로 묶음\n",
        "(lambda x,y: x+y)(1,2)"
      ],
      "execution_count": 12,
      "outputs": [
        {
          "output_type": "execute_result",
          "data": {
            "text/plain": [
              "3"
            ]
          },
          "metadata": {},
          "execution_count": 12
        }
      ]
    },
    {
      "cell_type": "code",
      "metadata": {
        "id": "Z4lQNqHngOrs"
      },
      "source": [
        "#참조되지 않은 전역 변수 사용\n",
        "a=0\n",
        "def plus(): global a; a+=1"
      ],
      "execution_count": 8,
      "outputs": []
    },
    {
      "cell_type": "code",
      "metadata": {
        "colab": {
          "base_uri": "https://localhost:8080/"
        },
        "id": "0xiKzLUigxq3",
        "outputId": "e8e5d25d-3643-43d2-a3bb-16287f1d6d19"
      },
      "source": [
        "#plus() 시행시마다 a가 1씩 증가\n",
        "plus()\n",
        "plus();a"
      ],
      "execution_count": 9,
      "outputs": [
        {
          "output_type": "execute_result",
          "data": {
            "text/plain": [
              "2"
            ]
          },
          "metadata": {},
          "execution_count": 9
        }
      ]
    },
    {
      "cell_type": "markdown",
      "metadata": {
        "id": "sXKiKk8QhurY"
      },
      "source": [
        "#입출력"
      ]
    },
    {
      "cell_type": "code",
      "metadata": {
        "colab": {
          "base_uri": "https://localhost:8080/"
        },
        "id": "2dnHz9Xmg1Bz",
        "outputId": "4a3b62d6-8a9b-4843-d5d7-258378e18fe1"
      },
      "source": [
        "#입력된 정수 list만드는 전형적 문장\n",
        "#map(()없이 함수명, 적용 대상 포함한 list)\n",
        "data=list(map(int, input().split()))"
      ],
      "execution_count": 13,
      "outputs": [
        {
          "name": "stdout",
          "output_type": "stream",
          "text": [
            "18 24 95 28\n"
          ]
        }
      ]
    },
    {
      "cell_type": "code",
      "metadata": {
        "colab": {
          "base_uri": "https://localhost:8080/"
        },
        "id": "Wci6uHARiLnK",
        "outputId": "d4880af8-b7e9-45e5-df5c-fa7045dc4804"
      },
      "source": [
        "# 1 2 3 4 입력\n",
        "input().split() #['1', '2', '3', '4']"
      ],
      "execution_count": 16,
      "outputs": [
        {
          "name": "stdout",
          "output_type": "stream",
          "text": [
            "1 2 3 4 \n"
          ]
        },
        {
          "output_type": "execute_result",
          "data": {
            "text/plain": [
              "['1', '2', '3', '4']"
            ]
          },
          "metadata": {},
          "execution_count": 16
        }
      ]
    },
    {
      "cell_type": "code",
      "metadata": {
        "colab": {
          "base_uri": "https://localhost:8080/"
        },
        "id": "YOMTS8LuiT3O",
        "outputId": "1afeadac-ecd9-4fe0-d95a-0004e77609b4"
      },
      "source": [
        "#map의 결과는 출력 형태 지정 필요\n",
        "map(int, input().split()) #1 2 3 입력, <map at 0x7f5365824d90>"
      ],
      "execution_count": 30,
      "outputs": [
        {
          "name": "stdout",
          "output_type": "stream",
          "text": [
            "1 2 3 4\n"
          ]
        },
        {
          "output_type": "execute_result",
          "data": {
            "text/plain": [
              "<map at 0x7f5365824d90>"
            ]
          },
          "metadata": {},
          "execution_count": 30
        }
      ]
    },
    {
      "cell_type": "code",
      "metadata": {
        "colab": {
          "base_uri": "https://localhost:8080/"
        },
        "id": "cn_X-M4cjIYK",
        "outputId": "5b505723-57ed-44de-9ed4-66a3baa9665b"
      },
      "source": [
        "#입력 수가 지정된 경우 빠른 변수 할당:\n",
        "a,b,c= map(int, input().split()) #1 2 3 입력\n",
        "print(a, b, c) #1 2 3"
      ],
      "execution_count": 29,
      "outputs": [
        {
          "output_type": "stream",
          "name": "stdout",
          "text": [
            "1 2 3\n"
          ]
        }
      ]
    },
    {
      "cell_type": "markdown",
      "metadata": {
        "id": "zGd8eaGzi19G"
      },
      "source": [
        "입력- map & pandas"
      ]
    },
    {
      "cell_type": "code",
      "metadata": {
        "colab": {
          "base_uri": "https://localhost:8080/",
          "height": 211
        },
        "id": "NzjQB9KHijIq",
        "outputId": "c7bba568-4de0-408e-976b-c0bcceee8967"
      },
      "source": [
        "#Series나 DataFrame 형태로도 map 사용\n",
        "import pandas as pd\n",
        "pd.Series(map(int, input().split()))\n",
        "pd.DataFrame(map(int, input().split()))"
      ],
      "execution_count": 19,
      "outputs": [
        {
          "name": "stdout",
          "output_type": "stream",
          "text": [
            "1 2 3 4\n",
            "1 2 3 4\n"
          ]
        },
        {
          "output_type": "execute_result",
          "data": {
            "text/html": [
              "<div>\n",
              "<style scoped>\n",
              "    .dataframe tbody tr th:only-of-type {\n",
              "        vertical-align: middle;\n",
              "    }\n",
              "\n",
              "    .dataframe tbody tr th {\n",
              "        vertical-align: top;\n",
              "    }\n",
              "\n",
              "    .dataframe thead th {\n",
              "        text-align: right;\n",
              "    }\n",
              "</style>\n",
              "<table border=\"1\" class=\"dataframe\">\n",
              "  <thead>\n",
              "    <tr style=\"text-align: right;\">\n",
              "      <th></th>\n",
              "      <th>0</th>\n",
              "    </tr>\n",
              "  </thead>\n",
              "  <tbody>\n",
              "    <tr>\n",
              "      <th>0</th>\n",
              "      <td>1</td>\n",
              "    </tr>\n",
              "    <tr>\n",
              "      <th>1</th>\n",
              "      <td>2</td>\n",
              "    </tr>\n",
              "    <tr>\n",
              "      <th>2</th>\n",
              "      <td>3</td>\n",
              "    </tr>\n",
              "    <tr>\n",
              "      <th>3</th>\n",
              "      <td>4</td>\n",
              "    </tr>\n",
              "  </tbody>\n",
              "</table>\n",
              "</div>"
            ],
            "text/plain": [
              "   0\n",
              "0  1\n",
              "1  2\n",
              "2  3\n",
              "3  4"
            ]
          },
          "metadata": {},
          "execution_count": 19
        }
      ]
    },
    {
      "cell_type": "markdown",
      "metadata": {
        "id": "QR8ZDwLpkFwJ"
      },
      "source": [
        "입력 개수가 많은 경우 input()은 동작이 느리다\n",
        "\n",
        "sys.stdin.readline()이 유리"
      ]
    },
    {
      "cell_type": "code",
      "metadata": {
        "id": "Hk8vCpgChsod"
      },
      "source": [
        "#colab이라서인지 작동 x\n",
        "import sys\n",
        "data=sys.stdin.readline().rstrip()"
      ],
      "execution_count": 39,
      "outputs": []
    },
    {
      "cell_type": "code",
      "metadata": {
        "colab": {
          "base_uri": "https://localhost:8080/"
        },
        "id": "LWfoFYLVkZP-",
        "outputId": "eadd7fe0-927f-4812-d507-f795324ecc96"
      },
      "source": [
        "print('코딩 '+str(3)); print('코딩', 3) #동일\n",
        "print('코딩 '*3) # print('코딩'+3)은 오류"
      ],
      "execution_count": 46,
      "outputs": [
        {
          "output_type": "stream",
          "name": "stdout",
          "text": [
            "코딩 3\n",
            "코딩 3\n",
            "코딩 코딩 코딩 \n"
          ]
        }
      ]
    },
    {
      "cell_type": "markdown",
      "metadata": {
        "id": "AljeMDQVmYNY"
      },
      "source": [
        "\n",
        "\n",
        "---\n",
        "\n"
      ]
    },
    {
      "cell_type": "markdown",
      "metadata": {
        "id": "G3h_FkYNmO-e"
      },
      "source": [
        "# 주요 라이브러리"
      ]
    },
    {
      "cell_type": "markdown",
      "metadata": {
        "id": "0IPZgR8rmZL6"
      },
      "source": [
        "파이썬 코딩테스트는 보통 파이썬 표준 라이브러리를 이용할 수 있다\n",
        "\n",
        "https://docs.python.org/3/library/index.html"
      ]
    },
    {
      "cell_type": "markdown",
      "metadata": {
        "id": "b177SYlNnGkZ"
      },
      "source": [
        "#내장 함수\n",
        "\n",
        "이미 아는 것: input(), print(), *sum(), max() sorted(), \n",
        "\n",
        "*iterable 객체(반복 가능. 리스트, 사전, 튜플)에 적용"
      ]
    },
    {
      "cell_type": "code",
      "metadata": {
        "colab": {
          "base_uri": "https://localhost:8080/"
        },
        "id": "GORRt9-FmOeO",
        "outputId": "d1403e3a-ef81-48ee-c917-eac844387caa"
      },
      "source": [
        "#문자열 수식의 계산 결과 반환 (^ 등 사용 못하는 기호 있음)\n",
        "eval(\"5*5+2\")"
      ],
      "execution_count": 51,
      "outputs": [
        {
          "output_type": "execute_result",
          "data": {
            "text/plain": [
              "27"
            ]
          },
          "metadata": {},
          "execution_count": 51
        }
      ]
    },
    {
      "cell_type": "code",
      "metadata": {
        "colab": {
          "base_uri": "https://localhost:8080/"
        },
        "id": "pxhh5Z0dn23C",
        "outputId": "10ee35ca-928e-4a0a-a47a-f45cf2f30dd3"
      },
      "source": [
        "#튜플 원소 리스트를 lambda로 key 지정해 정렬\n",
        "x=[('A',7), ('B',5), ('C',3)]\n",
        "sorted(x, key=lambda x: x[1]) #i=0~2에 대해 각 x[i][1]이 key가 되는 구조임"
      ],
      "execution_count": 53,
      "outputs": [
        {
          "output_type": "execute_result",
          "data": {
            "text/plain": [
              "[('C', 3), ('B', 5), ('A', 7)]"
            ]
          },
          "metadata": {},
          "execution_count": 53
        }
      ]
    },
    {
      "cell_type": "markdown",
      "metadata": {
        "id": "SedjeaSmqiCm"
      },
      "source": [
        "순열과 조합"
      ]
    },
    {
      "cell_type": "code",
      "metadata": {
        "id": "Ep4Sv_HDrbS4"
      },
      "source": [
        "from itertools import permutations as pm #순열\n",
        "from itertools import combinations as cm #조합\n",
        "from itertools import product #중복순열\n",
        "from itertools import combinations_with_replacement as cmr #중복조합"
      ],
      "execution_count": 60,
      "outputs": []
    },
    {
      "cell_type": "code",
      "metadata": {
        "colab": {
          "base_uri": "https://localhost:8080/"
        },
        "id": "ROjXzOLJqWGD",
        "outputId": "6def728e-1634-4f2c-eb3c-782ab2d0dbc4"
      },
      "source": [
        "data=[1,2,3]\n",
        "\n",
        "pm(data,3) #map처럼 형태 지정 필요"
      ],
      "execution_count": 54,
      "outputs": [
        {
          "output_type": "execute_result",
          "data": {
            "text/plain": [
              "<itertools.permutations at 0x7f536169ecb0>"
            ]
          },
          "metadata": {},
          "execution_count": 54
        }
      ]
    },
    {
      "cell_type": "code",
      "metadata": {
        "colab": {
          "base_uri": "https://localhost:8080/"
        },
        "id": "OGaf8y5rqz_7",
        "outputId": "7976e4db-0740-4e9d-d2e6-9024037e819b"
      },
      "source": [
        "#세 값 중 두 값 순열: 3P2(=6)개 경우\n",
        "list(pm(data,2))"
      ],
      "execution_count": 58,
      "outputs": [
        {
          "output_type": "execute_result",
          "data": {
            "text/plain": [
              "[(1, 2), (1, 3), (2, 1), (2, 3), (3, 1), (3, 2)]"
            ]
          },
          "metadata": {},
          "execution_count": 58
        }
      ]
    },
    {
      "cell_type": "code",
      "metadata": {
        "colab": {
          "base_uri": "https://localhost:8080/"
        },
        "id": "RQN3j4Koq6gS",
        "outputId": "aa1ffb18-0e5f-4309-a696-ace24564df66"
      },
      "source": [
        "#세 값 중 두 값 조합: 3C2(=3)개 경우\n",
        "list(cm(data,2))"
      ],
      "execution_count": 57,
      "outputs": [
        {
          "output_type": "execute_result",
          "data": {
            "text/plain": [
              "[(1, 2), (1, 3), (2, 3)]"
            ]
          },
          "metadata": {},
          "execution_count": 57
        }
      ]
    },
    {
      "cell_type": "code",
      "metadata": {
        "colab": {
          "base_uri": "https://localhost:8080/"
        },
        "id": "lay7FTfWrJtw",
        "outputId": "287ae1cd-2733-48b8-b3d0-eec896bd838a"
      },
      "source": [
        "#세 값 중 두 값 중복순열: 3*3개 경우\n",
        "list(product(data,repeat=2)) #얘만 repeat= 안쓰면 오류"
      ],
      "execution_count": 62,
      "outputs": [
        {
          "output_type": "execute_result",
          "data": {
            "text/plain": [
              "[(1, 1), (1, 2), (1, 3), (2, 1), (2, 2), (2, 3), (3, 1), (3, 2), (3, 3)]"
            ]
          },
          "metadata": {},
          "execution_count": 62
        }
      ]
    },
    {
      "cell_type": "code",
      "metadata": {
        "colab": {
          "base_uri": "https://localhost:8080/"
        },
        "id": "0NmG-gq2sD1O",
        "outputId": "df583f18-ca93-4460-8478-1ccca1ee3223"
      },
      "source": [
        "#세 값 중 두 값 중복순열: 3C2+3개 경우\n",
        "list(cmr(data,2))"
      ],
      "execution_count": 63,
      "outputs": [
        {
          "output_type": "execute_result",
          "data": {
            "text/plain": [
              "[(1, 1), (1, 2), (1, 3), (2, 2), (2, 3), (3, 3)]"
            ]
          },
          "metadata": {},
          "execution_count": 63
        }
      ]
    },
    {
      "cell_type": "markdown",
      "metadata": {
        "id": "IhQenGz4sVQc"
      },
      "source": [
        "#heapq\n",
        "\n",
        "우선순위 큐 기능 구현시 빠르게 동작함\n",
        "\n",
        "list 수동 정렬 시, heap에 원소 전부를 넣고 빼더라도 시간 복잡도는 O(NlogN)\n",
        "\n"
      ]
    },
    {
      "cell_type": "code",
      "metadata": {
        "id": "RtPSTZ94sW9T"
      },
      "source": [
        "import heapq as hq\n",
        "\n",
        "def h_sort(iter):\n",
        "  h=[]; hlist=[]\n",
        "\n",
        "  for value in iter:\n",
        "    #heap에 추가\n",
        "    hq.heappush(h,value)  \n",
        "\n",
        "    print(h) #불필요 (과정 확인용)   \n",
        "\n",
        "  for _ in range(len(h)):\n",
        "    #heap에서 추출\n",
        "    hlist.append(hq.heappop(h)) \n",
        "    \n",
        "    print(_, h) #불필요 (과정 확인용) \n",
        "\n",
        "  return hlist"
      ],
      "execution_count": 82,
      "outputs": []
    },
    {
      "cell_type": "markdown",
      "metadata": {
        "id": "9e779Gd6vVSB"
      },
      "source": [
        "그런데 heapq 작동 과정을 print()로 뜯어보면\n",
        "\n",
        "항상 정렬되어 있는 것은 아님 - why? how?"
      ]
    },
    {
      "cell_type": "code",
      "metadata": {
        "colab": {
          "base_uri": "https://localhost:8080/"
        },
        "id": "PT4O-xkVuMrd",
        "outputId": "5b1ef879-a4b1-4f1e-d6c7-6562b7818006"
      },
      "source": [
        "#heappush(힙, 값)와 heappop(힙)의 과정\n",
        "h_sort([5,4,2,3,1])\n",
        "\n",
        "'''heappop()은 확실히 작은값부터 빠져나가는데\n",
        "heappush(), heappop() 과정 둘다 heap의 정렬 상태가 동적임'''"
      ],
      "execution_count": 83,
      "outputs": [
        {
          "output_type": "stream",
          "name": "stdout",
          "text": [
            "[5]\n",
            "[4, 5]\n",
            "[2, 5, 4]\n",
            "[2, 3, 4, 5]\n",
            "[1, 2, 4, 5, 3]\n",
            "0 [2, 3, 4, 5]\n",
            "1 [3, 5, 4]\n",
            "2 [4, 5]\n",
            "3 [5]\n",
            "4 []\n"
          ]
        },
        {
          "output_type": "execute_result",
          "data": {
            "text/plain": [
              "[1, 2, 3, 4, 5]"
            ]
          },
          "metadata": {},
          "execution_count": 83
        }
      ]
    },
    {
      "cell_type": "code",
      "metadata": {
        "id": "Fo0ddjAUwaAS"
      },
      "source": [
        "#참고로 Python의 heap은 min heap (오름차순)\n",
        "#따라서 역순정렬 시 모든 값 음수 전환 (기존 부호 상관 없음)\n",
        "def h_rsort(iter):\n",
        "  h=[]; hlist=[]\n",
        "\n",
        "  for value in iter:\n",
        "    hq.heappush(h,-value)    \n",
        "\n",
        "  for _ in range(len(h)):\n",
        "    hlist.append(-hq.heappop(h)) \n",
        "\n",
        "  return hlist"
      ],
      "execution_count": 84,
      "outputs": []
    },
    {
      "cell_type": "code",
      "metadata": {
        "colab": {
          "base_uri": "https://localhost:8080/"
        },
        "id": "HmCoJ3hMxiGi",
        "outputId": "a758bf1a-c92f-462b-fc2d-6c427e84a74a"
      },
      "source": [
        "h_rsort([4,1,5,2])"
      ],
      "execution_count": 85,
      "outputs": [
        {
          "output_type": "execute_result",
          "data": {
            "text/plain": [
              "[5, 4, 2, 1]"
            ]
          },
          "metadata": {},
          "execution_count": 85
        }
      ]
    },
    {
      "cell_type": "markdown",
      "metadata": {
        "id": "rrxVk69WxvtR"
      },
      "source": [
        "# bisect\n",
        "\n",
        "정렬된 배열에서 특정 원소 찾을 때 효과적\n",
        "\n",
        "bisect_left(), bisect_right()의 시간복잡도: O(logN)"
      ]
    },
    {
      "cell_type": "code",
      "metadata": {
        "colab": {
          "base_uri": "https://localhost:8080/"
        },
        "id": "1cSY7Nc2yHoD",
        "outputId": "2d8c083c-7b6f-4b66-e5d2-accdff8d89e4"
      },
      "source": [
        "from bisect import bisect_left, bisect_right\n",
        "\n",
        "a=[1,2,2,4]"
      ],
      "execution_count": 86,
      "outputs": [
        {
          "output_type": "stream",
          "name": "stdout",
          "text": [
            "0\n"
          ]
        }
      ]
    },
    {
      "cell_type": "code",
      "metadata": {
        "colab": {
          "base_uri": "https://localhost:8080/"
        },
        "id": "rYJlAUlFyaMD",
        "outputId": "e15daf9c-c265-46dd-cb50-8f8b224d06b3"
      },
      "source": [
        "#list a를 왼쪽부터 특정 값 탐색\n",
        "#발견된 값을 오른쪽으로 밀어낸 후의 index 반환\n",
        "print(bisect_left(a,2))\n",
        "print([1,'index',2,2,4])"
      ],
      "execution_count": 92,
      "outputs": [
        {
          "output_type": "stream",
          "name": "stdout",
          "text": [
            "1\n",
            "[1, '여기', 2, 2, 4]\n"
          ]
        }
      ]
    },
    {
      "cell_type": "code",
      "metadata": {
        "colab": {
          "base_uri": "https://localhost:8080/"
        },
        "id": "PUr1vd_iysec",
        "outputId": "635162bc-00ec-48e9-a554-7fb34278f719"
      },
      "source": [
        "#list a를 으론쪽부터 특정 값 탐색\n",
        "#발견된 값을 왼쪽으로 밀어낸 후의 index 반환\n",
        "print(bisect_right(a,2))\n",
        "print([1,2,2,'index',4])"
      ],
      "execution_count": 91,
      "outputs": [
        {
          "output_type": "stream",
          "name": "stdout",
          "text": [
            "3\n",
            "[1, 2, 2, '여기', 4]\n"
          ]
        }
      ]
    },
    {
      "cell_type": "markdown",
      "metadata": {
        "id": "9WGWAN0ezn3V"
      },
      "source": [
        "정렬된 리스트를 전제한다면 bisect_left/right로 특정 값보다 크거나 작은 값들을 쉽게 뽑아낼 수 있음"
      ]
    },
    {
      "cell_type": "markdown",
      "metadata": {
        "id": "XnAoGYWc0BG8"
      },
      "source": [
        "# collections\n",
        "\n",
        "보통 Python에서는 deque를 이용해 큐 구현\n",
        "\n",
        "리스트는 뒤부터 탐색: 가장 앞 원소 추가(append)/제거(pop) 시간은 O(N)\n",
        "\n",
        "큐는 모든 경우 O(1) / 대신 인덱스 없어서 인덱싱, 슬라이싱 사용 불가"
      ]
    },
    {
      "cell_type": "code",
      "metadata": {
        "colab": {
          "base_uri": "https://localhost:8080/"
        },
        "id": "K-piD2NuzZOq",
        "outputId": "ef53798e-7249-4beb-c8ad-4d56f7ba3375"
      },
      "source": [
        "from collections import deque\n",
        "a=deque([2,3,4])\n",
        "\n",
        "a.appendleft(1) #앞에 붙임\n",
        "a.append(5) #뒤에 붙임\n",
        "print(a)\n",
        "\n",
        "a.popleft() #앞값 제거\n",
        "a.pop() #뒤값 제거\n",
        "print(a)"
      ],
      "execution_count": 94,
      "outputs": [
        {
          "output_type": "stream",
          "name": "stdout",
          "text": [
            "deque([1, 2, 3, 4, 5])\n",
            "deque([2, 3, 4])\n"
          ]
        }
      ]
    },
    {
      "cell_type": "code",
      "metadata": {
        "colab": {
          "base_uri": "https://localhost:8080/"
        },
        "id": "HwI_9vKF1Azq",
        "outputId": "fae8da18-2ec1-4896-f745-b7a9eebad52e"
      },
      "source": [
        "#전체 원소 빈도 세기\n",
        "#특정 원소 빈도: [1,2,3].count(3)\n",
        "from collections import Counter\n",
        "c=Counter([1,2,3,2,3,2])\n",
        "\n",
        "#사전식 활용이 용이한 구조\n",
        "c"
      ],
      "execution_count": 101,
      "outputs": [
        {
          "output_type": "execute_result",
          "data": {
            "text/plain": [
              "Counter({1: 1, 2: 3, 3: 2})"
            ]
          },
          "metadata": {},
          "execution_count": 101
        }
      ]
    },
    {
      "cell_type": "code",
      "metadata": {
        "colab": {
          "base_uri": "https://localhost:8080/"
        },
        "id": "2nLvF4cD1kOf",
        "outputId": "515dc7db-a07e-45ae-b88d-b763e075a7ea"
      },
      "source": [
        "import math\n",
        "math.factorial(4)"
      ],
      "execution_count": 102,
      "outputs": [
        {
          "output_type": "stream",
          "name": "stdout",
          "text": [
            "24\n"
          ]
        }
      ]
    },
    {
      "cell_type": "code",
      "metadata": {
        "colab": {
          "base_uri": "https://localhost:8080/"
        },
        "id": "oVEzIMsk1scZ",
        "outputId": "786aad52-77a0-43f8-b991-7e88a4b8abab"
      },
      "source": [
        "#루트값 계산 방법 두 가지\n",
        "math.sqrt(2)==2**.5"
      ],
      "execution_count": 107,
      "outputs": [
        {
          "output_type": "execute_result",
          "data": {
            "text/plain": [
              "True"
            ]
          },
          "metadata": {},
          "execution_count": 107
        }
      ]
    },
    {
      "cell_type": "code",
      "metadata": {
        "colab": {
          "base_uri": "https://localhost:8080/"
        },
        "id": "I1S81KzC3o0K",
        "outputId": "d7ba1971-a54e-4a57-c61e-3301d4199f28"
      },
      "source": [
        "#최대 공약수\n",
        "math.gcd(4,12)"
      ],
      "execution_count": 108,
      "outputs": [
        {
          "output_type": "execute_result",
          "data": {
            "text/plain": [
              "4"
            ]
          },
          "metadata": {},
          "execution_count": 108
        }
      ]
    },
    {
      "cell_type": "code",
      "metadata": {
        "colab": {
          "base_uri": "https://localhost:8080/"
        },
        "id": "2gzeLkG63vrn",
        "outputId": "f38c271e-1143-467e-a307-680fe3d53b0e"
      },
      "source": [
        "#pi, e 값\n",
        "print(math.pi)\n",
        "print(math.e)"
      ],
      "execution_count": 110,
      "outputs": [
        {
          "output_type": "stream",
          "name": "stdout",
          "text": [
            "3.141592653589793\n",
            "2.718281828459045\n"
          ]
        }
      ]
    }
  ]
}